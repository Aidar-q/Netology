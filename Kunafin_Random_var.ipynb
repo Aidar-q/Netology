{
 "cells": [
  {
   "cell_type": "code",
   "execution_count": 424,
   "id": "3e9e0e5c",
   "metadata": {},
   "outputs": [
    {
     "name": "stdout",
     "output_type": "stream",
     "text": [
      " Игр: 1000 \n",
      " Вероятность выигрыша: 0.19 \n",
      " В среднем приобретено за игру: 0.008 руб. \n",
      " Выигрышей: 190 \n",
      " Сумма выигрышей: 1008 руб. \n",
      " Потрачено: 1000 руб. \n",
      " Прибыль: 8 руб. \n"
     ]
    }
   ],
   "source": [
    "import numpy as np\n",
    "\n",
    "trials = 1000    # Количество попыток\n",
    "successes = 0    # Количество успехов\n",
    "n = 0            # Сумма выигрыша\n",
    "s = 1            # Стоимость одной игры\n",
    "for i in range(trials):\n",
    "    random_score = np.random.randint(1, 1000)\n",
    "    if random_score == 777:\n",
    "        successes += 1\n",
    "        n += 200\n",
    "    elif random_score == 999:\n",
    "        successes += 1\n",
    "        n += 100\n",
    "    elif random_score == 555:\n",
    "        successes += 1\n",
    "        n += 50\n",
    "    elif random_score == 333:\n",
    "        successes += 1\n",
    "        n += 15\n",
    "    elif random_score == 111:\n",
    "        successes += 1\n",
    "        n += 10\n",
    "    elif (random_score-77) % 100 == 0:\n",
    "        successes += 1\n",
    "        n += 5\n",
    "    elif (random_score-7) % 10 == 0:\n",
    "        successes += 1\n",
    "        n += 3\n",
    "    elif random_score % 100 == 0:\n",
    "        successes += 1\n",
    "        n += 2\n",
    "    elif random_score % 10 == 0:\n",
    "        successes += 1\n",
    "        n += 1\n",
    "        if n/trials >= 1:\n",
    "            str_ = str()\n",
    "            str_ = 'В среднем приобретено за игру:'\n",
    "        else:\n",
    "            str_ = 'В среднем потеряно за игру:'\n",
    "        \n",
    "p_monte_carlo = successes / trials\n",
    "avg_win = abs((n - trials*s)/trials)\n",
    "profit = n - trials*s\n",
    "\n",
    "print(f' Игр: {trials} \\n Вероятность выигрыша: {p_monte_carlo} \\n {str_} {avg_win} руб. \\n Выигрышей: {successes} \\n Сумма выигрышей: {n} руб. \\n Потрачено: {trials*s} руб. \\n Прибыль: {profit} руб. ')"
   ]
  },
  {
   "cell_type": "code",
   "execution_count": 340,
   "id": "a7b861ce",
   "metadata": {},
   "outputs": [],
   "source": [
    "# Игра невыгодна. Игрок в основном выигрывает меньше, чем тратит на игру, вне зависимости от количества попыток."
   ]
  }
 ],
 "metadata": {
  "kernelspec": {
   "display_name": "Python 3",
   "language": "python",
   "name": "python3"
  },
  "language_info": {
   "codemirror_mode": {
    "name": "ipython",
    "version": 3
   },
   "file_extension": ".py",
   "mimetype": "text/x-python",
   "name": "python",
   "nbconvert_exporter": "python",
   "pygments_lexer": "ipython3",
   "version": "3.8.8"
  }
 },
 "nbformat": 4,
 "nbformat_minor": 5
}
