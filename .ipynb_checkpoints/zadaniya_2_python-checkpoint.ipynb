{
 "cells": [
  {
   "cell_type": "markdown",
   "id": "c1912ac0",
   "metadata": {},
   "source": [
    "## Задание 1"
   ]
  },
  {
   "cell_type": "code",
   "execution_count": 58,
   "id": "d98352c5",
   "metadata": {},
   "outputs": [
    {
     "name": "stdout",
     "output_type": "stream",
     "text": [
      "abcdef\n",
      "cd\n"
     ]
    }
   ],
   "source": [
    "word = input()\n",
    "dlina = int(len(word))\n",
    "if (dlina%2)==0:\n",
    "    print(word[int(dlina/2)-1]+word[int(dlina/2)])\n",
    "else:\n",
    "    print(word[int(dlina/2)]) \n",
    "    \n"
   ]
  },
  {
   "cell_type": "markdown",
   "id": "94a25a76",
   "metadata": {},
   "source": [
    "## Задание 2"
   ]
  },
  {
   "cell_type": "code",
   "execution_count": 97,
   "id": "ec9dbb80",
   "metadata": {},
   "outputs": [
    {
     "name": "stdout",
     "output_type": "stream",
     "text": [
      "Введите число: 100\n",
      "Введите число: 0\n",
      "Сумма введенных чисел: 100\n"
     ]
    }
   ],
   "source": [
    "a = int (input('Введите число: '))\n",
    "b = 0\n",
    "if a!=0:\n",
    "    while a != 0:\n",
    "        b = b + a\n",
    "        a = int (input('Введите число: '))\n",
    "    print (\"Сумма введенных чисел: \"+str(b))\n",
    "else: print('Вы ввели: '+str(a)+', программа прерывается')"
   ]
  },
  {
   "cell_type": "markdown",
   "id": "50f6e3da",
   "metadata": {},
   "source": [
    "## Задание 3"
   ]
  },
  {
   "cell_type": "code",
   "execution_count": 367,
   "id": "6cabf433",
   "metadata": {},
   "outputs": [
    {
     "name": "stdout",
     "output_type": "stream",
     "text": [
      "Идеальные пары:\n",
      "Alex и Emma\n",
      "Arthur и Kate\n",
      "John и Kira\n",
      "Peter и Liza\n",
      "Richard и Trisha\n"
     ]
    }
   ],
   "source": [
    "boys = ['Peter','Alex', 'John', 'Arthur', 'Richard']\n",
    "girls = ['Kate', 'Liza', 'Kira', 'Emma', 'Trisha']\n",
    "if len(boys)==len(girls):\n",
    "    print(\"Идеальные пары:\")\n",
    "    boys.sort()\n",
    "    girls.sort()\n",
    "    dating = zip(boys, girls)\n",
    "    for para in dating:\n",
    "        print(f\"{para[0]} и {para[1]}\")\n",
    "else:\n",
    "     print(\"Кто то может остаться без пары\")"
   ]
  },
  {
   "cell_type": "markdown",
   "id": "14dd2be8",
   "metadata": {},
   "source": [
    "## Задание 4"
   ]
  },
  {
   "cell_type": "code",
   "execution_count": 399,
   "id": "068fef44",
   "metadata": {},
   "outputs": [
    {
     "name": "stdout",
     "output_type": "stream",
     "text": [
      "Средняя температура в странах:\n",
      "Thailand - 23.9 °C\n",
      "Germany - 13.8 °C\n",
      "Russia - 3.7 °C\n",
      "Poland - 12.0 °C\n"
     ]
    }
   ],
   "source": [
    "countries_temperature = [\n",
    "    ['Thailand', [75.2, 77, 78.8, 73.4, 68, 75.2, 77]],\n",
    "    ['Germany', [57.2, 55.4, 59, 59, 53.6]],\n",
    "    ['Russia', [35.6, 37.4, 39.2, 41, 42.8, 39.2, 35.6]],\n",
    "    ['Poland', [50, 50, 53.6, 57.2, 55.4, 55.4]]\n",
    "]\n",
    "print('Средняя температура в странах:')\n",
    "for i in countries_temperature:\n",
    "    print(i[0], '-', round((sum(i[1]) / len(i[1]) - 32) / 1.8, 1), '°C')"
   ]
  }
 ],
 "metadata": {
  "kernelspec": {
   "display_name": "Python 3",
   "language": "python",
   "name": "python3"
  },
  "language_info": {
   "codemirror_mode": {
    "name": "ipython",
    "version": 3
   },
   "file_extension": ".py",
   "mimetype": "text/x-python",
   "name": "python",
   "nbconvert_exporter": "python",
   "pygments_lexer": "ipython3",
   "version": "3.8.8"
  }
 },
 "nbformat": 4,
 "nbformat_minor": 5
}
