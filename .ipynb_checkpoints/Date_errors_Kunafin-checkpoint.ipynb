{
 "cells": [
  {
   "cell_type": "code",
   "execution_count": null,
   "id": "e73af40b",
   "metadata": {},
   "outputs": [],
   "source": [
    "from datetime import datetime\n",
    "msk = datetime(2002, 10, 2)\n",
    "grd = datetime(2013,10,11)\n",
    "dn = datetime(1977,8,18)\n",
    "print('The Moscow Times -', msk.strftime('%A, %B %#d, %Y'))\n",
    "print('The Guardian -', grd.strftime('%A, %d.%m.%y'))\n",
    "print('The Guardian -', dn.strftime('%A, %d %B %Y'))"
   ]
  },
  {
   "cell_type": "code",
   "execution_count": null,
   "id": "f9b7b7e0",
   "metadata": {},
   "outputs": [],
   "source": [
    "from datetime import datetime\n",
    "stream = ['2018-04-02', '2018-02-29', '2018-19-02']\n",
    "def chk_date(num):\n",
    "    try:\n",
    "        datetime.strptime(num, '%Y-%m-%d')\n",
    "        print('дата \"{}\" корректна: {}'.format(num, True))\n",
    "    except:\n",
    "        print('дата \"{}\" корректна: {}'.format(num, False))\n",
    "for dt in stream:\n",
    "    chk_date(dt)"
   ]
  },
  {
   "cell_type": "code",
   "execution_count": 9,
   "id": "4955910e",
   "metadata": {},
   "outputs": [
    {
     "name": "stdout",
     "output_type": "stream",
     "text": [
      "[]\n"
     ]
    }
   ],
   "source": [
    "from datetime import datetime, timedelta\n",
    "start_date = '2021-02-30'\n",
    "end_date = '2021-02-31'\n",
    "def date_1_2():\n",
    "    days_between = []\n",
    "    try:\n",
    "        s_d = datetime.strptime(start_date,'%Y-%m-%d')\n",
    "        e_d = datetime.strptime(end_date,'%Y-%m-%d')\n",
    "        while s_d <= e_d: \n",
    "            p_datetime = datetime.strftime(s_d,'%Y-%m-%d')\n",
    "            days_between.append(p_datetime)\n",
    "            s_d += timedelta(days=1)\n",
    "        return days_between\n",
    "    except:\n",
    "        print(days_between)\n",
    "date_1_2()"
   ]
  }
 ],
 "metadata": {
  "kernelspec": {
   "display_name": "Python 3",
   "language": "python",
   "name": "python3"
  },
  "language_info": {
   "codemirror_mode": {
    "name": "ipython",
    "version": 3
   },
   "file_extension": ".py",
   "mimetype": "text/x-python",
   "name": "python",
   "nbconvert_exporter": "python",
   "pygments_lexer": "ipython3",
   "version": "3.8.8"
  }
 },
 "nbformat": 4,
 "nbformat_minor": 5
}
