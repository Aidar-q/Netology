{
 "cells": [
  {
   "cell_type": "code",
   "execution_count": 3,
   "id": "87d5846f",
   "metadata": {},
   "outputs": [
    {
     "data": {
      "text/html": [
       "<div>\n",
       "<style scoped>\n",
       "    .dataframe tbody tr th:only-of-type {\n",
       "        vertical-align: middle;\n",
       "    }\n",
       "\n",
       "    .dataframe tbody tr th {\n",
       "        vertical-align: top;\n",
       "    }\n",
       "\n",
       "    .dataframe thead th {\n",
       "        text-align: right;\n",
       "    }\n",
       "</style>\n",
       "<table border=\"1\" class=\"dataframe\">\n",
       "  <thead>\n",
       "    <tr style=\"text-align: right;\">\n",
       "      <th></th>\n",
       "      <th>date</th>\n",
       "      <th>title</th>\n",
       "      <th>url</th>\n",
       "      <th>keyword</th>\n",
       "    </tr>\n",
       "  </thead>\n",
       "  <tbody>\n",
       "    <tr>\n",
       "      <th>0</th>\n",
       "      <td>2021-08-04</td>\n",
       "      <td>Чтобы улучшить Госуслуги, нужна простая советс...</td>\n",
       "      <td>https://habr.com/ru/company/rtlabs/blog/570930/</td>\n",
       "      <td>gosuslugi</td>\n",
       "    </tr>\n",
       "    <tr>\n",
       "      <th>0</th>\n",
       "      <td>2021-08-04</td>\n",
       "      <td>О достижении целей</td>\n",
       "      <td>https://habr.com/ru/post/571198/</td>\n",
       "      <td>smart</td>\n",
       "    </tr>\n",
       "    <tr>\n",
       "      <th>0</th>\n",
       "      <td>2021-08-04</td>\n",
       "      <td>С галеры на верхнюю палубу: как и почему поним...</td>\n",
       "      <td>https://habr.com/ru/company/oleg-bunin/blog/57...</td>\n",
       "      <td>skypro</td>\n",
       "    </tr>\n",
       "  </tbody>\n",
       "</table>\n",
       "</div>"
      ],
      "text/plain": [
       "         date                                              title  \\\n",
       "0  2021-08-04  Чтобы улучшить Госуслуги, нужна простая советс...   \n",
       "0  2021-08-04                                 О достижении целей   \n",
       "0  2021-08-04  С галеры на верхнюю палубу: как и почему поним...   \n",
       "\n",
       "                                                 url    keyword  \n",
       "0    https://habr.com/ru/company/rtlabs/blog/570930/  gosuslugi  \n",
       "0                   https://habr.com/ru/post/571198/      smart  \n",
       "0  https://habr.com/ru/company/oleg-bunin/blog/57...     skypro  "
      ]
     },
     "execution_count": 3,
     "metadata": {},
     "output_type": "execute_result"
    }
   ],
   "source": [
    "import requests\n",
    "import time\n",
    "from bs4 import BeautifulSoup\n",
    "import pandas as pd\n",
    "time.sleep(0.3)\n",
    "\n",
    "KEYWORDS = ['gosuslugi', 'smart', 'skypro']\n",
    "req = requests.get('https://habr.com/ru/all/')\n",
    "soup = BeautifulSoup(req.text, 'html.parser')\n",
    "posts = soup.find_all('article', class_='tm-articles-list__item')\n",
    "habr_posts = pd.DataFrame()\n",
    "for post in posts:\n",
    "    post_lower = post.text.lower()\n",
    "    for word in KEYWORDS:\n",
    "        if word.lower() in post_lower:\n",
    "            title_element = post.find('a', class_='tm-article-snippet__title-link')\n",
    "            date_element = pd.to_datetime(soup.find('span', class_='tm-article-snippet__datetime-published').find('time').get('datetime'), dayfirst=True).date()\n",
    "            url_element = 'https://habr.com' + title_element.attrs.get('href')\n",
    "            row = {'date': str(date_element), 'title': title_element.text, 'url': url_element, 'keyword': word}\n",
    "            habr_posts = pd.concat([habr_posts, pd.DataFrame([row])])\n",
    "habr_posts"
   ]
  }
 ],
 "metadata": {
  "kernelspec": {
   "display_name": "Python 3",
   "language": "python",
   "name": "python3"
  },
  "language_info": {
   "codemirror_mode": {
    "name": "ipython",
    "version": 3
   },
   "file_extension": ".py",
   "mimetype": "text/x-python",
   "name": "python",
   "nbconvert_exporter": "python",
   "pygments_lexer": "ipython3",
   "version": "3.8.8"
  }
 },
 "nbformat": 4,
 "nbformat_minor": 5
}
