{
 "cells": [
  {
   "cell_type": "code",
   "execution_count": null,
   "id": "c61a5f3c",
   "metadata": {},
   "outputs": [],
   "source": [
    "f = open('purchase_log.txt', 'r')"
   ]
  },
  {
   "cell_type": "code",
   "execution_count": null,
   "id": "42c8fe62",
   "metadata": {},
   "outputs": [],
   "source": [
    "f.readline()"
   ]
  },
  {
   "cell_type": "markdown",
   "id": "9bb87fe1",
   "metadata": {},
   "source": [
    "<h2>Задание 1</h2>"
   ]
  },
  {
   "cell_type": "code",
   "execution_count": 7,
   "id": "0954d931",
   "metadata": {},
   "outputs": [],
   "source": [
    "import json\n",
    "purchases = {}\n",
    "i = 0\n",
    "with open('purchase_log.txt',encoding='utf-8') as pl:\n",
    "    for line in pl:\n",
    "        line = line.strip()\n",
    "        dict0  = json.loads(line)\n",
    "        purchases[ dict0['user_id'] ] = dict0['category']\n",
    "with open('results.txt', 'w') as new_file:\n",
    "    new_file.write(str(purchases))\n",
    "pl.close()"
   ]
  },
  {
   "cell_type": "markdown",
   "id": "145b5aa0",
   "metadata": {},
   "source": [
    "<h2>Задание 2</h2>"
   ]
  },
  {
   "cell_type": "code",
   "execution_count": 8,
   "id": "626ee5d1",
   "metadata": {},
   "outputs": [],
   "source": [
    "with open('visit_log.csv', 'r') as vl:\n",
    "    with open('funnel.csv', 'w') as fw:\n",
    "        for line in vl:\n",
    "            line_1=line.strip().split(',')\n",
    "            if line_1[0] in purchases.keys():\n",
    "                line_1.append(purchases[line_1[0]])\n",
    "                add_line=','.join(line_1)\n",
    "                fw.write(add_line+'\\n')\n",
    "vl.close()\n",
    "fw.close()"
   ]
  }
 ],
 "metadata": {
  "kernelspec": {
   "display_name": "Python 3",
   "language": "python",
   "name": "python3"
  },
  "language_info": {
   "codemirror_mode": {
    "name": "ipython",
    "version": 3
   },
   "file_extension": ".py",
   "mimetype": "text/x-python",
   "name": "python",
   "nbconvert_exporter": "python",
   "pygments_lexer": "ipython3",
   "version": "3.8.8"
  }
 },
 "nbformat": 4,
 "nbformat_minor": 5
}
