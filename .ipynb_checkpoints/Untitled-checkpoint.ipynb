{
 "cells": [
  {
   "cell_type": "markdown",
   "id": "f7f07800",
   "metadata": {},
   "source": [
    "<h2>Задание 1</h2>"
   ]
  },
  {
   "cell_type": "code",
   "execution_count": null,
   "id": "9d23c524",
   "metadata": {},
   "outputs": [],
   "source": [
    "import numpy as np\n",
    "N = int(input())\n",
    "np.arange(0, N)[::-1]"
   ]
  },
  {
   "cell_type": "markdown",
   "id": "5d7d107b",
   "metadata": {},
   "source": [
    "<h2>Задание 2</h2>"
   ]
  },
  {
   "cell_type": "code",
   "execution_count": null,
   "id": "e79196cb",
   "metadata": {},
   "outputs": [],
   "source": [
    "N = int(input())\n",
    "neo = np.diag(np.arange(0, N)[::-1])\n",
    "sum0 = 0\n",
    "for line in neo:\n",
    "    for j in line:\n",
    "        sum0 += j\n",
    "print(neo)\n",
    "print('- - - - -')\n",
    "print('сумма: {}'.format(sum0))"
   ]
  },
  {
   "cell_type": "markdown",
   "id": "149c03b7",
   "metadata": {},
   "source": [
    "<h2>Задание 3</h2>"
   ]
  },
  {
   "cell_type": "code",
   "execution_count": null,
   "id": "a23ab8e0",
   "metadata": {},
   "outputs": [],
   "source": [
    "# Решите систему уравнений:\n",
    "# 4x + 2y + z = 4\n",
    "# x + 3y = 12\n",
    "# 5y + 4z = -3\n",
    "\n",
    "from numpy import linalg\n",
    "a = np.array([[4, 2, 1],[1, 3, 0],[0, 5, 4]])\n",
    "b = np.array([4, 12, -3])\n",
    "linalg.solve(a, b)\n",
    "#np.allclose(np.dot(a, linalg.solve(a, b)), b)"
   ]
  },
  {
   "cell_type": "markdown",
   "id": "9dbe2468",
   "metadata": {},
   "source": [
    "<h2>Задание 4</h2>"
   ]
  },
  {
   "cell_type": "code",
   "execution_count": null,
   "id": "47b5a5f4",
   "metadata": {
    "scrolled": true
   },
   "outputs": [],
   "source": [
    "from IPython.display import Image\n",
    "Image(\"user_matrix.JPG\")"
   ]
  },
  {
   "cell_type": "code",
   "execution_count": 2,
   "id": "3f4d77af",
   "metadata": {},
   "outputs": [
    {
     "name": "stdout",
     "output_type": "stream",
     "text": [
      "ID самого похожего пользователя: 7\n"
     ]
    }
   ],
   "source": [
    "import numpy as np\n",
    "users_stats = np.array(\n",
    "    [\n",
    "        [2, 1, 0, 0, 0, 0],\n",
    "        [1, 1, 2, 1, 0, 0],\n",
    "        [2, 0, 1, 0, 0, 0],\n",
    "        [1, 1, 2, 1, 0, 1],\n",
    "        [0, 0, 1, 2, 0, 0],\n",
    "        [0, 0, 0, 0, 0, 5],\n",
    "        [1, 0, 0, 0, 0, 0],\n",
    "        [0, 1, 1, 0, 0, 0],\n",
    "        [0, 0, 0, 1, 1, 3],\n",
    "        [1, 0, 0, 2, 1, 4]\n",
    "    ], \n",
    "    np.int32\n",
    ")\n",
    "next_user_stats = np.array([0, 1, 2, 0, 0, 0])\n",
    "def cosine( users_stats, next_user_stats ):\n",
    "    # длины векторов\n",
    "    users_stats_Length = np.linalg.norm( users_stats )\n",
    "    next_user_stats_Length = np.linalg.norm( next_user_stats )\n",
    "    \n",
    "    return np.dot( users_stats, next_user_stats ) / ( users_stats_Length * next_user_stats_Length )\n",
    "rez = np.array([cosine(row, next_user_stats) for row in users_stats])\n",
    "rez\n",
    "best_user = np.argmax(rez)\n",
    "print('ID самого похожего пользователя: {}'.format(best_user))"
   ]
  },
  {
   "cell_type": "code",
   "execution_count": null,
   "id": "49f593b7",
   "metadata": {},
   "outputs": [],
   "source": []
  }
 ],
 "metadata": {
  "kernelspec": {
   "display_name": "Python 3",
   "language": "python",
   "name": "python3"
  },
  "language_info": {
   "codemirror_mode": {
    "name": "ipython",
    "version": 3
   },
   "file_extension": ".py",
   "mimetype": "text/x-python",
   "name": "python",
   "nbconvert_exporter": "python",
   "pygments_lexer": "ipython3",
   "version": "3.8.8"
  }
 },
 "nbformat": 4,
 "nbformat_minor": 5
}
