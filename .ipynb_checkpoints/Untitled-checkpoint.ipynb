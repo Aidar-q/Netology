{
 "cells": [
  {
   "cell_type": "markdown",
   "id": "f70c16e1",
   "metadata": {},
   "source": [
    "<h3 style=\"color:#3399FF\">1. Загрузите файл HR.csv в pandas dataframe</h3>"
   ]
  },
  {
   "cell_type": "code",
   "execution_count": 28,
   "id": "04b519e5",
   "metadata": {},
   "outputs": [
    {
     "data": {
      "text/html": [
       "<div>\n",
       "<style scoped>\n",
       "    .dataframe tbody tr th:only-of-type {\n",
       "        vertical-align: middle;\n",
       "    }\n",
       "\n",
       "    .dataframe tbody tr th {\n",
       "        vertical-align: top;\n",
       "    }\n",
       "\n",
       "    .dataframe thead th {\n",
       "        text-align: right;\n",
       "    }\n",
       "</style>\n",
       "<table border=\"1\" class=\"dataframe\">\n",
       "  <thead>\n",
       "    <tr style=\"text-align: right;\">\n",
       "      <th></th>\n",
       "      <th>satisfaction_level</th>\n",
       "      <th>last_evaluation</th>\n",
       "      <th>number_project</th>\n",
       "      <th>average_montly_hours</th>\n",
       "      <th>time_spend_company</th>\n",
       "      <th>Work_accident</th>\n",
       "      <th>left</th>\n",
       "      <th>promotion_last_5years</th>\n",
       "      <th>department</th>\n",
       "      <th>salary</th>\n",
       "    </tr>\n",
       "  </thead>\n",
       "  <tbody>\n",
       "    <tr>\n",
       "      <th>0</th>\n",
       "      <td>0.38</td>\n",
       "      <td>0.53</td>\n",
       "      <td>2</td>\n",
       "      <td>157</td>\n",
       "      <td>3</td>\n",
       "      <td>0</td>\n",
       "      <td>1</td>\n",
       "      <td>0</td>\n",
       "      <td>sales</td>\n",
       "      <td>low</td>\n",
       "    </tr>\n",
       "    <tr>\n",
       "      <th>1</th>\n",
       "      <td>0.80</td>\n",
       "      <td>0.86</td>\n",
       "      <td>5</td>\n",
       "      <td>262</td>\n",
       "      <td>6</td>\n",
       "      <td>0</td>\n",
       "      <td>1</td>\n",
       "      <td>0</td>\n",
       "      <td>sales</td>\n",
       "      <td>medium</td>\n",
       "    </tr>\n",
       "    <tr>\n",
       "      <th>2</th>\n",
       "      <td>0.11</td>\n",
       "      <td>0.88</td>\n",
       "      <td>7</td>\n",
       "      <td>272</td>\n",
       "      <td>4</td>\n",
       "      <td>0</td>\n",
       "      <td>1</td>\n",
       "      <td>0</td>\n",
       "      <td>sales</td>\n",
       "      <td>medium</td>\n",
       "    </tr>\n",
       "    <tr>\n",
       "      <th>3</th>\n",
       "      <td>0.72</td>\n",
       "      <td>0.87</td>\n",
       "      <td>5</td>\n",
       "      <td>223</td>\n",
       "      <td>5</td>\n",
       "      <td>0</td>\n",
       "      <td>1</td>\n",
       "      <td>0</td>\n",
       "      <td>sales</td>\n",
       "      <td>low</td>\n",
       "    </tr>\n",
       "    <tr>\n",
       "      <th>4</th>\n",
       "      <td>0.37</td>\n",
       "      <td>0.52</td>\n",
       "      <td>2</td>\n",
       "      <td>159</td>\n",
       "      <td>3</td>\n",
       "      <td>0</td>\n",
       "      <td>1</td>\n",
       "      <td>0</td>\n",
       "      <td>sales</td>\n",
       "      <td>low</td>\n",
       "    </tr>\n",
       "    <tr>\n",
       "      <th>...</th>\n",
       "      <td>...</td>\n",
       "      <td>...</td>\n",
       "      <td>...</td>\n",
       "      <td>...</td>\n",
       "      <td>...</td>\n",
       "      <td>...</td>\n",
       "      <td>...</td>\n",
       "      <td>...</td>\n",
       "      <td>...</td>\n",
       "      <td>...</td>\n",
       "    </tr>\n",
       "    <tr>\n",
       "      <th>14994</th>\n",
       "      <td>0.40</td>\n",
       "      <td>0.57</td>\n",
       "      <td>2</td>\n",
       "      <td>151</td>\n",
       "      <td>3</td>\n",
       "      <td>0</td>\n",
       "      <td>1</td>\n",
       "      <td>0</td>\n",
       "      <td>support</td>\n",
       "      <td>low</td>\n",
       "    </tr>\n",
       "    <tr>\n",
       "      <th>14995</th>\n",
       "      <td>0.37</td>\n",
       "      <td>0.48</td>\n",
       "      <td>2</td>\n",
       "      <td>160</td>\n",
       "      <td>3</td>\n",
       "      <td>0</td>\n",
       "      <td>1</td>\n",
       "      <td>0</td>\n",
       "      <td>support</td>\n",
       "      <td>low</td>\n",
       "    </tr>\n",
       "    <tr>\n",
       "      <th>14996</th>\n",
       "      <td>0.37</td>\n",
       "      <td>0.53</td>\n",
       "      <td>2</td>\n",
       "      <td>143</td>\n",
       "      <td>3</td>\n",
       "      <td>0</td>\n",
       "      <td>1</td>\n",
       "      <td>0</td>\n",
       "      <td>support</td>\n",
       "      <td>low</td>\n",
       "    </tr>\n",
       "    <tr>\n",
       "      <th>14997</th>\n",
       "      <td>0.11</td>\n",
       "      <td>0.96</td>\n",
       "      <td>6</td>\n",
       "      <td>280</td>\n",
       "      <td>4</td>\n",
       "      <td>0</td>\n",
       "      <td>1</td>\n",
       "      <td>0</td>\n",
       "      <td>support</td>\n",
       "      <td>low</td>\n",
       "    </tr>\n",
       "    <tr>\n",
       "      <th>14998</th>\n",
       "      <td>0.37</td>\n",
       "      <td>0.52</td>\n",
       "      <td>2</td>\n",
       "      <td>158</td>\n",
       "      <td>3</td>\n",
       "      <td>0</td>\n",
       "      <td>1</td>\n",
       "      <td>0</td>\n",
       "      <td>support</td>\n",
       "      <td>low</td>\n",
       "    </tr>\n",
       "  </tbody>\n",
       "</table>\n",
       "<p>14999 rows × 10 columns</p>\n",
       "</div>"
      ],
      "text/plain": [
       "       satisfaction_level  last_evaluation  number_project  \\\n",
       "0                    0.38             0.53               2   \n",
       "1                    0.80             0.86               5   \n",
       "2                    0.11             0.88               7   \n",
       "3                    0.72             0.87               5   \n",
       "4                    0.37             0.52               2   \n",
       "...                   ...              ...             ...   \n",
       "14994                0.40             0.57               2   \n",
       "14995                0.37             0.48               2   \n",
       "14996                0.37             0.53               2   \n",
       "14997                0.11             0.96               6   \n",
       "14998                0.37             0.52               2   \n",
       "\n",
       "       average_montly_hours  time_spend_company  Work_accident  left  \\\n",
       "0                       157                   3              0     1   \n",
       "1                       262                   6              0     1   \n",
       "2                       272                   4              0     1   \n",
       "3                       223                   5              0     1   \n",
       "4                       159                   3              0     1   \n",
       "...                     ...                 ...            ...   ...   \n",
       "14994                   151                   3              0     1   \n",
       "14995                   160                   3              0     1   \n",
       "14996                   143                   3              0     1   \n",
       "14997                   280                   4              0     1   \n",
       "14998                   158                   3              0     1   \n",
       "\n",
       "       promotion_last_5years department  salary  \n",
       "0                          0      sales     low  \n",
       "1                          0      sales  medium  \n",
       "2                          0      sales  medium  \n",
       "3                          0      sales     low  \n",
       "4                          0      sales     low  \n",
       "...                      ...        ...     ...  \n",
       "14994                      0    support     low  \n",
       "14995                      0    support     low  \n",
       "14996                      0    support     low  \n",
       "14997                      0    support     low  \n",
       "14998                      0    support     low  \n",
       "\n",
       "[14999 rows x 10 columns]"
      ]
     },
     "execution_count": 28,
     "metadata": {},
     "output_type": "execute_result"
    }
   ],
   "source": [
    "import matplotlib.pyplot as plt\n",
    "import pandas as pd\n",
    "import numpy as np\n",
    "import seaborn as sns\n",
    "import squarify\n",
    "import scipy.stats as stats\n",
    "\n",
    "#увеличим дефолтный размер графиков\n",
    "from pylab import rcParams\n",
    "rcParams['figure.figsize'] = 13,6\n",
    "\n",
    "df = pd.read_csv('hr.csv')\n",
    "df"
   ]
  },
  {
   "cell_type": "code",
   "execution_count": 2,
   "id": "a22405de",
   "metadata": {},
   "outputs": [
    {
     "name": "stdout",
     "output_type": "stream",
     "text": [
      "<class 'pandas.core.frame.DataFrame'>\n",
      "RangeIndex: 14999 entries, 0 to 14998\n",
      "Data columns (total 10 columns):\n",
      " #   Column                 Non-Null Count  Dtype  \n",
      "---  ------                 --------------  -----  \n",
      " 0   satisfaction_level     14999 non-null  float64\n",
      " 1   last_evaluation        14999 non-null  float64\n",
      " 2   number_project         14999 non-null  int64  \n",
      " 3   average_montly_hours   14999 non-null  int64  \n",
      " 4   time_spend_company     14999 non-null  int64  \n",
      " 5   Work_accident          14999 non-null  int64  \n",
      " 6   left                   14999 non-null  int64  \n",
      " 7   promotion_last_5years  14999 non-null  int64  \n",
      " 8   department             14999 non-null  object \n",
      " 9   salary                 14999 non-null  object \n",
      "dtypes: float64(2), int64(6), object(2)\n",
      "memory usage: 1.1+ MB\n"
     ]
    }
   ],
   "source": [
    "df.info()"
   ]
  },
  {
   "cell_type": "markdown",
   "id": "c589647a",
   "metadata": {},
   "source": [
    "<h3 style=\"color:#3399FF\">2. Рассчитайте основные статистики для переменных(среднее,медиана,мода,мин/макс,сред.отклонение).</h3>"
   ]
  },
  {
   "cell_type": "code",
   "execution_count": 3,
   "id": "852990cf",
   "metadata": {},
   "outputs": [
    {
     "data": {
      "text/html": [
       "<div>\n",
       "<style scoped>\n",
       "    .dataframe tbody tr th:only-of-type {\n",
       "        vertical-align: middle;\n",
       "    }\n",
       "\n",
       "    .dataframe tbody tr th {\n",
       "        vertical-align: top;\n",
       "    }\n",
       "\n",
       "    .dataframe thead th {\n",
       "        text-align: right;\n",
       "    }\n",
       "</style>\n",
       "<table border=\"1\" class=\"dataframe\">\n",
       "  <thead>\n",
       "    <tr style=\"text-align: right;\">\n",
       "      <th></th>\n",
       "      <th>satisfaction_level</th>\n",
       "      <th>last_evaluation</th>\n",
       "      <th>number_project</th>\n",
       "      <th>average_montly_hours</th>\n",
       "      <th>time_spend_company</th>\n",
       "      <th>Work_accident</th>\n",
       "      <th>left</th>\n",
       "      <th>promotion_last_5years</th>\n",
       "      <th>department</th>\n",
       "      <th>salary</th>\n",
       "    </tr>\n",
       "  </thead>\n",
       "  <tbody>\n",
       "    <tr>\n",
       "      <th>0</th>\n",
       "      <td>0.1</td>\n",
       "      <td>0.55</td>\n",
       "      <td>4.0</td>\n",
       "      <td>135</td>\n",
       "      <td>3.0</td>\n",
       "      <td>0.0</td>\n",
       "      <td>0.0</td>\n",
       "      <td>0.0</td>\n",
       "      <td>sales</td>\n",
       "      <td>low</td>\n",
       "    </tr>\n",
       "    <tr>\n",
       "      <th>1</th>\n",
       "      <td>NaN</td>\n",
       "      <td>NaN</td>\n",
       "      <td>NaN</td>\n",
       "      <td>156</td>\n",
       "      <td>NaN</td>\n",
       "      <td>NaN</td>\n",
       "      <td>NaN</td>\n",
       "      <td>NaN</td>\n",
       "      <td>NaN</td>\n",
       "      <td>NaN</td>\n",
       "    </tr>\n",
       "  </tbody>\n",
       "</table>\n",
       "</div>"
      ],
      "text/plain": [
       "   satisfaction_level  last_evaluation  number_project  average_montly_hours  \\\n",
       "0                 0.1             0.55             4.0                   135   \n",
       "1                 NaN              NaN             NaN                   156   \n",
       "\n",
       "   time_spend_company  Work_accident  left  promotion_last_5years department  \\\n",
       "0                 3.0            0.0   0.0                    0.0      sales   \n",
       "1                 NaN            NaN   NaN                    NaN        NaN   \n",
       "\n",
       "  salary  \n",
       "0    low  \n",
       "1    NaN  "
      ]
     },
     "execution_count": 3,
     "metadata": {},
     "output_type": "execute_result"
    }
   ],
   "source": [
    "# Расчёт моды\n",
    "df_mode = df.mode()\n",
    "df_mode"
   ]
  },
  {
   "cell_type": "code",
   "execution_count": 4,
   "id": "70848a6d",
   "metadata": {},
   "outputs": [
    {
     "data": {
      "text/html": [
       "<div>\n",
       "<style scoped>\n",
       "    .dataframe tbody tr th:only-of-type {\n",
       "        vertical-align: middle;\n",
       "    }\n",
       "\n",
       "    .dataframe tbody tr th {\n",
       "        vertical-align: top;\n",
       "    }\n",
       "\n",
       "    .dataframe thead th {\n",
       "        text-align: right;\n",
       "    }\n",
       "</style>\n",
       "<table border=\"1\" class=\"dataframe\">\n",
       "  <thead>\n",
       "    <tr style=\"text-align: right;\">\n",
       "      <th></th>\n",
       "      <th>satisfaction_level</th>\n",
       "      <th>last_evaluation</th>\n",
       "      <th>number_project</th>\n",
       "      <th>average_montly_hours</th>\n",
       "      <th>time_spend_company</th>\n",
       "      <th>Work_accident</th>\n",
       "      <th>left</th>\n",
       "      <th>promotion_last_5years</th>\n",
       "    </tr>\n",
       "  </thead>\n",
       "  <tbody>\n",
       "    <tr>\n",
       "      <th>count</th>\n",
       "      <td>14999.000000</td>\n",
       "      <td>14999.000000</td>\n",
       "      <td>14999.000000</td>\n",
       "      <td>14999.000000</td>\n",
       "      <td>14999.000000</td>\n",
       "      <td>14999.000000</td>\n",
       "      <td>14999.000000</td>\n",
       "      <td>14999.000000</td>\n",
       "    </tr>\n",
       "    <tr>\n",
       "      <th>mean</th>\n",
       "      <td>0.612834</td>\n",
       "      <td>0.716102</td>\n",
       "      <td>3.803054</td>\n",
       "      <td>201.050337</td>\n",
       "      <td>3.498233</td>\n",
       "      <td>0.144610</td>\n",
       "      <td>0.238083</td>\n",
       "      <td>0.021268</td>\n",
       "    </tr>\n",
       "    <tr>\n",
       "      <th>std</th>\n",
       "      <td>0.248631</td>\n",
       "      <td>0.171169</td>\n",
       "      <td>1.232592</td>\n",
       "      <td>49.943099</td>\n",
       "      <td>1.460136</td>\n",
       "      <td>0.351719</td>\n",
       "      <td>0.425924</td>\n",
       "      <td>0.144281</td>\n",
       "    </tr>\n",
       "    <tr>\n",
       "      <th>min</th>\n",
       "      <td>0.090000</td>\n",
       "      <td>0.360000</td>\n",
       "      <td>2.000000</td>\n",
       "      <td>96.000000</td>\n",
       "      <td>2.000000</td>\n",
       "      <td>0.000000</td>\n",
       "      <td>0.000000</td>\n",
       "      <td>0.000000</td>\n",
       "    </tr>\n",
       "    <tr>\n",
       "      <th>25%</th>\n",
       "      <td>0.440000</td>\n",
       "      <td>0.560000</td>\n",
       "      <td>3.000000</td>\n",
       "      <td>156.000000</td>\n",
       "      <td>3.000000</td>\n",
       "      <td>0.000000</td>\n",
       "      <td>0.000000</td>\n",
       "      <td>0.000000</td>\n",
       "    </tr>\n",
       "    <tr>\n",
       "      <th>50%</th>\n",
       "      <td>0.640000</td>\n",
       "      <td>0.720000</td>\n",
       "      <td>4.000000</td>\n",
       "      <td>200.000000</td>\n",
       "      <td>3.000000</td>\n",
       "      <td>0.000000</td>\n",
       "      <td>0.000000</td>\n",
       "      <td>0.000000</td>\n",
       "    </tr>\n",
       "    <tr>\n",
       "      <th>75%</th>\n",
       "      <td>0.820000</td>\n",
       "      <td>0.870000</td>\n",
       "      <td>5.000000</td>\n",
       "      <td>245.000000</td>\n",
       "      <td>4.000000</td>\n",
       "      <td>0.000000</td>\n",
       "      <td>0.000000</td>\n",
       "      <td>0.000000</td>\n",
       "    </tr>\n",
       "    <tr>\n",
       "      <th>max</th>\n",
       "      <td>1.000000</td>\n",
       "      <td>1.000000</td>\n",
       "      <td>7.000000</td>\n",
       "      <td>310.000000</td>\n",
       "      <td>10.000000</td>\n",
       "      <td>1.000000</td>\n",
       "      <td>1.000000</td>\n",
       "      <td>1.000000</td>\n",
       "    </tr>\n",
       "  </tbody>\n",
       "</table>\n",
       "</div>"
      ],
      "text/plain": [
       "       satisfaction_level  last_evaluation  number_project  \\\n",
       "count        14999.000000     14999.000000    14999.000000   \n",
       "mean             0.612834         0.716102        3.803054   \n",
       "std              0.248631         0.171169        1.232592   \n",
       "min              0.090000         0.360000        2.000000   \n",
       "25%              0.440000         0.560000        3.000000   \n",
       "50%              0.640000         0.720000        4.000000   \n",
       "75%              0.820000         0.870000        5.000000   \n",
       "max              1.000000         1.000000        7.000000   \n",
       "\n",
       "       average_montly_hours  time_spend_company  Work_accident          left  \\\n",
       "count          14999.000000        14999.000000   14999.000000  14999.000000   \n",
       "mean             201.050337            3.498233       0.144610      0.238083   \n",
       "std               49.943099            1.460136       0.351719      0.425924   \n",
       "min               96.000000            2.000000       0.000000      0.000000   \n",
       "25%              156.000000            3.000000       0.000000      0.000000   \n",
       "50%              200.000000            3.000000       0.000000      0.000000   \n",
       "75%              245.000000            4.000000       0.000000      0.000000   \n",
       "max              310.000000           10.000000       1.000000      1.000000   \n",
       "\n",
       "       promotion_last_5years  \n",
       "count           14999.000000  \n",
       "mean                0.021268  \n",
       "std                 0.144281  \n",
       "min                 0.000000  \n",
       "25%                 0.000000  \n",
       "50%                 0.000000  \n",
       "75%                 0.000000  \n",
       "max                 1.000000  "
      ]
     },
     "execution_count": 4,
     "metadata": {},
     "output_type": "execute_result"
    }
   ],
   "source": [
    "# Расчёт среднего, медианы, мин/макс, среднего отклонения\n",
    "df.describe()"
   ]
  },
  {
   "cell_type": "markdown",
   "id": "5a627f31",
   "metadata": {},
   "source": [
    "<h3 style=\"color:#3399FF\">3. Рассчитайте и визуализировать корреляционную матрицу для количественных переменных.Определите две самые скоррелированные и две наименее скоррелированные переменные.</h3>"
   ]
  },
  {
   "cell_type": "code",
   "execution_count": 5,
   "id": "66aecc37",
   "metadata": {},
   "outputs": [
    {
     "data": {
      "text/html": [
       "<style  type=\"text/css\" >\n",
       "#T_6cfed_row0_col0,#T_6cfed_row1_col1,#T_6cfed_row2_col2,#T_6cfed_row3_col3,#T_6cfed_row4_col4,#T_6cfed_row5_col5,#T_6cfed_row6_col6,#T_6cfed_row7_col7{\n",
       "            background-color:  #800000;\n",
       "            color:  #f1f1f1;\n",
       "        }#T_6cfed_row0_col1{\n",
       "            background-color:  #00009b;\n",
       "            color:  #f1f1f1;\n",
       "        }#T_6cfed_row0_col2,#T_6cfed_row0_col3,#T_6cfed_row0_col4,#T_6cfed_row0_col6,#T_6cfed_row5_col1,#T_6cfed_row6_col0,#T_6cfed_row6_col5,#T_6cfed_row6_col7,#T_6cfed_row7_col1{\n",
       "            background-color:  #00004c;\n",
       "            color:  #f1f1f1;\n",
       "        }#T_6cfed_row0_col5{\n",
       "            background-color:  #0000d0;\n",
       "            color:  #f1f1f1;\n",
       "        }#T_6cfed_row0_col7{\n",
       "            background-color:  #000087;\n",
       "            color:  #f1f1f1;\n",
       "        }#T_6cfed_row1_col0,#T_6cfed_row1_col3,#T_6cfed_row2_col1{\n",
       "            background-color:  #6969ff;\n",
       "            color:  #000000;\n",
       "        }#T_6cfed_row1_col2{\n",
       "            background-color:  #b9b9ff;\n",
       "            color:  #000000;\n",
       "        }#T_6cfed_row1_col4{\n",
       "            background-color:  #0000e4;\n",
       "            color:  #f1f1f1;\n",
       "        }#T_6cfed_row1_col5,#T_6cfed_row3_col5{\n",
       "            background-color:  #0000a6;\n",
       "            color:  #f1f1f1;\n",
       "        }#T_6cfed_row1_col6{\n",
       "            background-color:  #2121ff;\n",
       "            color:  #f1f1f1;\n",
       "        }#T_6cfed_row1_col7{\n",
       "            background-color:  #00006e;\n",
       "            color:  #f1f1f1;\n",
       "        }#T_6cfed_row2_col0{\n",
       "            background-color:  #0000ca;\n",
       "            color:  #f1f1f1;\n",
       "        }#T_6cfed_row2_col3{\n",
       "            background-color:  #b5b5ff;\n",
       "            color:  #000000;\n",
       "        }#T_6cfed_row2_col4{\n",
       "            background-color:  #1515ff;\n",
       "            color:  #f1f1f1;\n",
       "        }#T_6cfed_row2_col5{\n",
       "            background-color:  #0000a9;\n",
       "            color:  #f1f1f1;\n",
       "        }#T_6cfed_row2_col6{\n",
       "            background-color:  #2d2dff;\n",
       "            color:  #f1f1f1;\n",
       "        }#T_6cfed_row2_col7{\n",
       "            background-color:  #000071;\n",
       "            color:  #f1f1f1;\n",
       "        }#T_6cfed_row3_col0{\n",
       "            background-color:  #0d0dff;\n",
       "            color:  #f1f1f1;\n",
       "        }#T_6cfed_row3_col1{\n",
       "            background-color:  #6161ff;\n",
       "            color:  #000000;\n",
       "        }#T_6cfed_row3_col2{\n",
       "            background-color:  #f5f5ff;\n",
       "            color:  #000000;\n",
       "        }#T_6cfed_row3_col4,#T_6cfed_row4_col0{\n",
       "            background-color:  #0000e1;\n",
       "            color:  #f1f1f1;\n",
       "        }#T_6cfed_row3_col6{\n",
       "            background-color:  #5151ff;\n",
       "            color:  #f1f1f1;\n",
       "        }#T_6cfed_row3_col7{\n",
       "            background-color:  #000074;\n",
       "            color:  #f1f1f1;\n",
       "        }#T_6cfed_row4_col1{\n",
       "            background-color:  #0000ae;\n",
       "            color:  #f1f1f1;\n",
       "        }#T_6cfed_row4_col2,#T_6cfed_row7_col0{\n",
       "            background-color:  #3131ff;\n",
       "            color:  #f1f1f1;\n",
       "        }#T_6cfed_row4_col3,#T_6cfed_row6_col2{\n",
       "            background-color:  #0000b4;\n",
       "            color:  #f1f1f1;\n",
       "        }#T_6cfed_row4_col5{\n",
       "            background-color:  #0000ac;\n",
       "            color:  #f1f1f1;\n",
       "        }#T_6cfed_row4_col6{\n",
       "            background-color:  #8989ff;\n",
       "            color:  #000000;\n",
       "        }#T_6cfed_row4_col7{\n",
       "            background-color:  #0000a3;\n",
       "            color:  #f1f1f1;\n",
       "        }#T_6cfed_row5_col0{\n",
       "            background-color:  #4949ff;\n",
       "            color:  #f1f1f1;\n",
       "        }#T_6cfed_row5_col2,#T_6cfed_row7_col2{\n",
       "            background-color:  #0000a0;\n",
       "            color:  #f1f1f1;\n",
       "        }#T_6cfed_row5_col3{\n",
       "            background-color:  #000052;\n",
       "            color:  #f1f1f1;\n",
       "        }#T_6cfed_row5_col4{\n",
       "            background-color:  #00008d;\n",
       "            color:  #f1f1f1;\n",
       "        }#T_6cfed_row5_col6{\n",
       "            background-color:  #0000c5;\n",
       "            color:  #f1f1f1;\n",
       "        }#T_6cfed_row5_col7{\n",
       "            background-color:  #000090;\n",
       "            color:  #f1f1f1;\n",
       "        }#T_6cfed_row6_col1{\n",
       "            background-color:  #000055;\n",
       "            color:  #f1f1f1;\n",
       "        }#T_6cfed_row6_col3{\n",
       "            background-color:  #00008a;\n",
       "            color:  #f1f1f1;\n",
       "        }#T_6cfed_row6_col4{\n",
       "            background-color:  #0000ec;\n",
       "            color:  #f1f1f1;\n",
       "        }#T_6cfed_row7_col3{\n",
       "            background-color:  #000058;\n",
       "            color:  #f1f1f1;\n",
       "        }#T_6cfed_row7_col4{\n",
       "            background-color:  #0000ba;\n",
       "            color:  #f1f1f1;\n",
       "        }#T_6cfed_row7_col5{\n",
       "            background-color:  #0000c2;\n",
       "            color:  #f1f1f1;\n",
       "        }#T_6cfed_row7_col6{\n",
       "            background-color:  #0000f4;\n",
       "            color:  #f1f1f1;\n",
       "        }</style><table id=\"T_6cfed_\" ><thead>    <tr>        <th class=\"blank level0\" ></th>        <th class=\"col_heading level0 col0\" >satisfaction_level</th>        <th class=\"col_heading level0 col1\" >last_evaluation</th>        <th class=\"col_heading level0 col2\" >number_project</th>        <th class=\"col_heading level0 col3\" >average_montly_hours</th>        <th class=\"col_heading level0 col4\" >time_spend_company</th>        <th class=\"col_heading level0 col5\" >Work_accident</th>        <th class=\"col_heading level0 col6\" >left</th>        <th class=\"col_heading level0 col7\" >promotion_last_5years</th>    </tr></thead><tbody>\n",
       "                <tr>\n",
       "                        <th id=\"T_6cfed_level0_row0\" class=\"row_heading level0 row0\" >satisfaction_level</th>\n",
       "                        <td id=\"T_6cfed_row0_col0\" class=\"data row0 col0\" >1.000000</td>\n",
       "                        <td id=\"T_6cfed_row0_col1\" class=\"data row0 col1\" >0.105021</td>\n",
       "                        <td id=\"T_6cfed_row0_col2\" class=\"data row0 col2\" >-0.142970</td>\n",
       "                        <td id=\"T_6cfed_row0_col3\" class=\"data row0 col3\" >-0.020048</td>\n",
       "                        <td id=\"T_6cfed_row0_col4\" class=\"data row0 col4\" >-0.100866</td>\n",
       "                        <td id=\"T_6cfed_row0_col5\" class=\"data row0 col5\" >0.058697</td>\n",
       "                        <td id=\"T_6cfed_row0_col6\" class=\"data row0 col6\" >-0.388375</td>\n",
       "                        <td id=\"T_6cfed_row0_col7\" class=\"data row0 col7\" >0.025605</td>\n",
       "            </tr>\n",
       "            <tr>\n",
       "                        <th id=\"T_6cfed_level0_row1\" class=\"row_heading level0 row1\" >last_evaluation</th>\n",
       "                        <td id=\"T_6cfed_row1_col0\" class=\"data row1 col0\" >0.105021</td>\n",
       "                        <td id=\"T_6cfed_row1_col1\" class=\"data row1 col1\" >1.000000</td>\n",
       "                        <td id=\"T_6cfed_row1_col2\" class=\"data row1 col2\" >0.349333</td>\n",
       "                        <td id=\"T_6cfed_row1_col3\" class=\"data row1 col3\" >0.339742</td>\n",
       "                        <td id=\"T_6cfed_row1_col4\" class=\"data row1 col4\" >0.131591</td>\n",
       "                        <td id=\"T_6cfed_row1_col5\" class=\"data row1 col5\" >-0.007104</td>\n",
       "                        <td id=\"T_6cfed_row1_col6\" class=\"data row1 col6\" >0.006567</td>\n",
       "                        <td id=\"T_6cfed_row1_col7\" class=\"data row1 col7\" >-0.008684</td>\n",
       "            </tr>\n",
       "            <tr>\n",
       "                        <th id=\"T_6cfed_level0_row2\" class=\"row_heading level0 row2\" >number_project</th>\n",
       "                        <td id=\"T_6cfed_row2_col0\" class=\"data row2 col0\" >-0.142970</td>\n",
       "                        <td id=\"T_6cfed_row2_col1\" class=\"data row2 col1\" >0.349333</td>\n",
       "                        <td id=\"T_6cfed_row2_col2\" class=\"data row2 col2\" >1.000000</td>\n",
       "                        <td id=\"T_6cfed_row2_col3\" class=\"data row2 col3\" >0.417211</td>\n",
       "                        <td id=\"T_6cfed_row2_col4\" class=\"data row2 col4\" >0.196786</td>\n",
       "                        <td id=\"T_6cfed_row2_col5\" class=\"data row2 col5\" >-0.004741</td>\n",
       "                        <td id=\"T_6cfed_row2_col6\" class=\"data row2 col6\" >0.023787</td>\n",
       "                        <td id=\"T_6cfed_row2_col7\" class=\"data row2 col7\" >-0.006064</td>\n",
       "            </tr>\n",
       "            <tr>\n",
       "                        <th id=\"T_6cfed_level0_row3\" class=\"row_heading level0 row3\" >average_montly_hours</th>\n",
       "                        <td id=\"T_6cfed_row3_col0\" class=\"data row3 col0\" >-0.020048</td>\n",
       "                        <td id=\"T_6cfed_row3_col1\" class=\"data row3 col1\" >0.339742</td>\n",
       "                        <td id=\"T_6cfed_row3_col2\" class=\"data row3 col2\" >0.417211</td>\n",
       "                        <td id=\"T_6cfed_row3_col3\" class=\"data row3 col3\" >1.000000</td>\n",
       "                        <td id=\"T_6cfed_row3_col4\" class=\"data row3 col4\" >0.127755</td>\n",
       "                        <td id=\"T_6cfed_row3_col5\" class=\"data row3 col5\" >-0.010143</td>\n",
       "                        <td id=\"T_6cfed_row3_col6\" class=\"data row3 col6\" >0.071287</td>\n",
       "                        <td id=\"T_6cfed_row3_col7\" class=\"data row3 col7\" >-0.003544</td>\n",
       "            </tr>\n",
       "            <tr>\n",
       "                        <th id=\"T_6cfed_level0_row4\" class=\"row_heading level0 row4\" >time_spend_company</th>\n",
       "                        <td id=\"T_6cfed_row4_col0\" class=\"data row4 col0\" >-0.100866</td>\n",
       "                        <td id=\"T_6cfed_row4_col1\" class=\"data row4 col1\" >0.131591</td>\n",
       "                        <td id=\"T_6cfed_row4_col2\" class=\"data row4 col2\" >0.196786</td>\n",
       "                        <td id=\"T_6cfed_row4_col3\" class=\"data row4 col3\" >0.127755</td>\n",
       "                        <td id=\"T_6cfed_row4_col4\" class=\"data row4 col4\" >1.000000</td>\n",
       "                        <td id=\"T_6cfed_row4_col5\" class=\"data row4 col5\" >0.002120</td>\n",
       "                        <td id=\"T_6cfed_row4_col6\" class=\"data row4 col6\" >0.144822</td>\n",
       "                        <td id=\"T_6cfed_row4_col7\" class=\"data row4 col7\" >0.067433</td>\n",
       "            </tr>\n",
       "            <tr>\n",
       "                        <th id=\"T_6cfed_level0_row5\" class=\"row_heading level0 row5\" >Work_accident</th>\n",
       "                        <td id=\"T_6cfed_row5_col0\" class=\"data row5 col0\" >0.058697</td>\n",
       "                        <td id=\"T_6cfed_row5_col1\" class=\"data row5 col1\" >-0.007104</td>\n",
       "                        <td id=\"T_6cfed_row5_col2\" class=\"data row5 col2\" >-0.004741</td>\n",
       "                        <td id=\"T_6cfed_row5_col3\" class=\"data row5 col3\" >-0.010143</td>\n",
       "                        <td id=\"T_6cfed_row5_col4\" class=\"data row5 col4\" >0.002120</td>\n",
       "                        <td id=\"T_6cfed_row5_col5\" class=\"data row5 col5\" >1.000000</td>\n",
       "                        <td id=\"T_6cfed_row5_col6\" class=\"data row5 col6\" >-0.154622</td>\n",
       "                        <td id=\"T_6cfed_row5_col7\" class=\"data row5 col7\" >0.039245</td>\n",
       "            </tr>\n",
       "            <tr>\n",
       "                        <th id=\"T_6cfed_level0_row6\" class=\"row_heading level0 row6\" >left</th>\n",
       "                        <td id=\"T_6cfed_row6_col0\" class=\"data row6 col0\" >-0.388375</td>\n",
       "                        <td id=\"T_6cfed_row6_col1\" class=\"data row6 col1\" >0.006567</td>\n",
       "                        <td id=\"T_6cfed_row6_col2\" class=\"data row6 col2\" >0.023787</td>\n",
       "                        <td id=\"T_6cfed_row6_col3\" class=\"data row6 col3\" >0.071287</td>\n",
       "                        <td id=\"T_6cfed_row6_col4\" class=\"data row6 col4\" >0.144822</td>\n",
       "                        <td id=\"T_6cfed_row6_col5\" class=\"data row6 col5\" >-0.154622</td>\n",
       "                        <td id=\"T_6cfed_row6_col6\" class=\"data row6 col6\" >1.000000</td>\n",
       "                        <td id=\"T_6cfed_row6_col7\" class=\"data row6 col7\" >-0.061788</td>\n",
       "            </tr>\n",
       "            <tr>\n",
       "                        <th id=\"T_6cfed_level0_row7\" class=\"row_heading level0 row7\" >promotion_last_5years</th>\n",
       "                        <td id=\"T_6cfed_row7_col0\" class=\"data row7 col0\" >0.025605</td>\n",
       "                        <td id=\"T_6cfed_row7_col1\" class=\"data row7 col1\" >-0.008684</td>\n",
       "                        <td id=\"T_6cfed_row7_col2\" class=\"data row7 col2\" >-0.006064</td>\n",
       "                        <td id=\"T_6cfed_row7_col3\" class=\"data row7 col3\" >-0.003544</td>\n",
       "                        <td id=\"T_6cfed_row7_col4\" class=\"data row7 col4\" >0.067433</td>\n",
       "                        <td id=\"T_6cfed_row7_col5\" class=\"data row7 col5\" >0.039245</td>\n",
       "                        <td id=\"T_6cfed_row7_col6\" class=\"data row7 col6\" >-0.061788</td>\n",
       "                        <td id=\"T_6cfed_row7_col7\" class=\"data row7 col7\" >1.000000</td>\n",
       "            </tr>\n",
       "    </tbody></table>"
      ],
      "text/plain": [
       "<pandas.io.formats.style.Styler at 0x13de8ed6160>"
      ]
     },
     "execution_count": 5,
     "metadata": {},
     "output_type": "execute_result"
    }
   ],
   "source": [
    "df.corr().style.background_gradient('seismic')"
   ]
  },
  {
   "cell_type": "code",
   "execution_count": 6,
   "id": "0dcc8aeb",
   "metadata": {},
   "outputs": [
    {
     "data": {
      "text/plain": [
       "<AxesSubplot:>"
      ]
     },
     "execution_count": 6,
     "metadata": {},
     "output_type": "execute_result"
    },
    {
     "data": {
      "image/png": "[encoded data removed]",
      "text/plain": [
       "<Figure size 936x432 with 2 Axes>"
      ]
     },
     "metadata": {
      "needs_background": "light"
     },
     "output_type": "display_data"
    }
   ],
   "source": [
    "sns.heatmap(df.corr())"
   ]
  },
  {
   "cell_type": "markdown",
   "id": "c67d650b",
   "metadata": {},
   "source": [
    "- 2 самые скоррелированные переменные: average_monthly_hours - Среднее количество часов на рабочем месте в месяц и number_projects - Количество проектов, выполненных за время работы (прямая связь)\n",
    "\n",
    "- 2 наимение скоррелированные переменные: promotion_last_5years - повышался ли сотрудник за последние пять лет и average_monthly_hours - Среднее количество часов на рабочем месте в месяц (обратная связь)"
   ]
  },
  {
   "cell_type": "markdown",
   "id": "222abf90",
   "metadata": {},
   "source": [
    "<h3 style=\"color:#3399FF\">4. Рассчитайте сколько сотрудников работает в каждом департаменте.</h3>"
   ]
  },
  {
   "cell_type": "code",
   "execution_count": 7,
   "id": "eac6fea4",
   "metadata": {},
   "outputs": [
    {
     "data": {
      "text/plain": [
       "sales          3126\n",
       "technical      2023\n",
       "support        1674\n",
       "IT              954\n",
       "product_mng     704\n",
       "RandD           666\n",
       "marketing       655\n",
       "accounting      563\n",
       "management      539\n",
       "hr              524\n",
       "Name: department, dtype: int64"
      ]
     },
     "execution_count": 7,
     "metadata": {},
     "output_type": "execute_result"
    }
   ],
   "source": [
    "df_count_emp = df[df.left == False]\n",
    "df_count_emp['department'].value_counts()"
   ]
  },
  {
   "cell_type": "markdown",
   "id": "e7cbbc30",
   "metadata": {},
   "source": [
    "<h3 style=\"color:#3399FF\">5. Показать распределение сотрудников по зарплатам.</h3>"
   ]
  },
  {
   "cell_type": "code",
   "execution_count": 8,
   "id": "4e1e2e6c",
   "metadata": {},
   "outputs": [
    {
     "data": {
      "text/html": [
       "<div>\n",
       "<style scoped>\n",
       "    .dataframe tbody tr th:only-of-type {\n",
       "        vertical-align: middle;\n",
       "    }\n",
       "\n",
       "    .dataframe tbody tr th {\n",
       "        vertical-align: top;\n",
       "    }\n",
       "\n",
       "    .dataframe thead th {\n",
       "        text-align: right;\n",
       "    }\n",
       "</style>\n",
       "<table border=\"1\" class=\"dataframe\">\n",
       "  <thead>\n",
       "    <tr style=\"text-align: right;\">\n",
       "      <th></th>\n",
       "      <th>Уровень зарплаты</th>\n",
       "      <th>Количество сотрудников</th>\n",
       "    </tr>\n",
       "  </thead>\n",
       "  <tbody>\n",
       "    <tr>\n",
       "      <th>0</th>\n",
       "      <td>low</td>\n",
       "      <td>7316</td>\n",
       "    </tr>\n",
       "    <tr>\n",
       "      <th>1</th>\n",
       "      <td>medium</td>\n",
       "      <td>6446</td>\n",
       "    </tr>\n",
       "    <tr>\n",
       "      <th>2</th>\n",
       "      <td>high</td>\n",
       "      <td>1237</td>\n",
       "    </tr>\n",
       "  </tbody>\n",
       "</table>\n",
       "</div>"
      ],
      "text/plain": [
       "  Уровень зарплаты  Количество сотрудников\n",
       "0              low                    7316\n",
       "1           medium                    6446\n",
       "2             high                    1237"
      ]
     },
     "execution_count": 8,
     "metadata": {},
     "output_type": "execute_result"
    }
   ],
   "source": [
    "df_sal = df.salary.value_counts().reset_index()\n",
    "df_sal.rename(columns={'index':'Уровень зарплаты', 'salary':'Количество сотрудников'}, inplace=True)\n",
    "df_sal"
   ]
  },
  {
   "cell_type": "code",
   "execution_count": 9,
   "id": "f58c7c11",
   "metadata": {},
   "outputs": [
    {
     "data": {
      "text/plain": [
       "<AxesSubplot:title={'center':'Распределение сотрудников по зарплатам'}, ylabel='Уровень зарплаты'>"
      ]
     },
     "execution_count": 9,
     "metadata": {},
     "output_type": "execute_result"
    },
    {
     "data": {
      "image/png": "[encoded data removed]",
      "text/plain": [
       "<Figure size 936x432 with 1 Axes>"
      ]
     },
     "metadata": {
      "needs_background": "light"
     },
     "output_type": "display_data"
    }
   ],
   "source": [
    "df_sal.plot.barh( x = 'Уровень зарплаты',  y ='Количество сотрудников',\n",
    "                   title='Распределение сотрудников по зарплатам', color = '#9933FF')"
   ]
  },
  {
   "cell_type": "markdown",
   "id": "d3d87a65",
   "metadata": {},
   "source": [
    "<h3 style=\"color:#3399FF\">6. Показать распределение сотрудников по зарплатам в каждом департаменте по отдельности.</h3>"
   ]
  },
  {
   "cell_type": "code",
   "execution_count": 17,
   "id": "2f88b422",
   "metadata": {},
   "outputs": [
    {
     "data": {
      "text/html": [
       "<div>\n",
       "<style scoped>\n",
       "    .dataframe tbody tr th:only-of-type {\n",
       "        vertical-align: middle;\n",
       "    }\n",
       "\n",
       "    .dataframe tbody tr th {\n",
       "        vertical-align: top;\n",
       "    }\n",
       "\n",
       "    .dataframe thead th {\n",
       "        text-align: right;\n",
       "    }\n",
       "</style>\n",
       "<table border=\"1\" class=\"dataframe\">\n",
       "  <thead>\n",
       "    <tr style=\"text-align: right;\">\n",
       "      <th>salary</th>\n",
       "      <th>low</th>\n",
       "      <th>medium</th>\n",
       "      <th>high</th>\n",
       "    </tr>\n",
       "    <tr>\n",
       "      <th>department</th>\n",
       "      <th></th>\n",
       "      <th></th>\n",
       "      <th></th>\n",
       "    </tr>\n",
       "  </thead>\n",
       "  <tbody>\n",
       "    <tr>\n",
       "      <th>IT</th>\n",
       "      <td>609</td>\n",
       "      <td>535</td>\n",
       "      <td>83</td>\n",
       "    </tr>\n",
       "    <tr>\n",
       "      <th>RandD</th>\n",
       "      <td>364</td>\n",
       "      <td>372</td>\n",
       "      <td>51</td>\n",
       "    </tr>\n",
       "    <tr>\n",
       "      <th>accounting</th>\n",
       "      <td>358</td>\n",
       "      <td>335</td>\n",
       "      <td>74</td>\n",
       "    </tr>\n",
       "    <tr>\n",
       "      <th>hr</th>\n",
       "      <td>335</td>\n",
       "      <td>359</td>\n",
       "      <td>45</td>\n",
       "    </tr>\n",
       "    <tr>\n",
       "      <th>management</th>\n",
       "      <td>180</td>\n",
       "      <td>225</td>\n",
       "      <td>225</td>\n",
       "    </tr>\n",
       "    <tr>\n",
       "      <th>marketing</th>\n",
       "      <td>402</td>\n",
       "      <td>376</td>\n",
       "      <td>80</td>\n",
       "    </tr>\n",
       "    <tr>\n",
       "      <th>product_mng</th>\n",
       "      <td>451</td>\n",
       "      <td>383</td>\n",
       "      <td>68</td>\n",
       "    </tr>\n",
       "    <tr>\n",
       "      <th>sales</th>\n",
       "      <td>2099</td>\n",
       "      <td>1772</td>\n",
       "      <td>269</td>\n",
       "    </tr>\n",
       "    <tr>\n",
       "      <th>support</th>\n",
       "      <td>1146</td>\n",
       "      <td>942</td>\n",
       "      <td>141</td>\n",
       "    </tr>\n",
       "    <tr>\n",
       "      <th>technical</th>\n",
       "      <td>1372</td>\n",
       "      <td>1147</td>\n",
       "      <td>201</td>\n",
       "    </tr>\n",
       "  </tbody>\n",
       "</table>\n",
       "</div>"
      ],
      "text/plain": [
       "salary        low  medium  high\n",
       "department                     \n",
       "IT            609     535    83\n",
       "RandD         364     372    51\n",
       "accounting    358     335    74\n",
       "hr            335     359    45\n",
       "management    180     225   225\n",
       "marketing     402     376    80\n",
       "product_mng   451     383    68\n",
       "sales        2099    1772   269\n",
       "support      1146     942   141\n",
       "technical    1372    1147   201"
      ]
     },
     "execution_count": 17,
     "metadata": {},
     "output_type": "execute_result"
    }
   ],
   "source": [
    "df_sal_dep = pd.DataFrame(df.groupby('department')['salary'].value_counts())\n",
    "df_sal_dep.rename(columns={'salary':'Количество сотрудников'}, inplace=True)\n",
    "df_sal_dep = pd.pivot_table(df_sal_dep.reset_index(), index = 'department', columns = 'salary', values = 'Количество сотрудников')\n",
    "df_sal_dep[['low', 'medium', 'high']]"
   ]
  },
  {
   "cell_type": "code",
   "execution_count": 19,
   "id": "485b2b42",
   "metadata": {},
   "outputs": [
    {
     "data": {
      "text/plain": [
       "<AxesSubplot:title={'center':'Распределение сотрудников по зарплатам'}, xlabel='department'>"
      ]
     },
     "execution_count": 19,
     "metadata": {},
     "output_type": "execute_result"
    },
    {
     "data": {
      "image/png": "[encoded data removed]",
      "text/plain": [
       "<Figure size 936x432 with 1 Axes>"
      ]
     },
     "metadata": {
      "needs_background": "light"
     },
     "output_type": "display_data"
    }
   ],
   "source": [
    "df_sal_dep[['low', 'medium', 'high']].plot.bar(title='Распределение сотрудников по зарплатам')"
   ]
  },
  {
   "cell_type": "markdown",
   "id": "cf259760",
   "metadata": {},
   "source": [
    "<h3 style=\"color:#3399FF\">7. Проверить гипотезу, что сотрудники с высоким окладом проводят на работе больше времени, чем сотрудники с низким окладом.</h3>"
   ]
  },
  {
   "cell_type": "code",
   "execution_count": 56,
   "id": "2df409f1",
   "metadata": {},
   "outputs": [],
   "source": [
    "# H0 - Среднее время на работе сотрудников с высоким окладом и сотрудников с низким окладом не отличаются или отличаются незначительно\n",
    "# Ha - сотрудники с высоким окладом проводят на работе больше времени, чем сотрудники с низким окладом\n",
    "# Получаем две независимые выборки\n",
    "data_hours_high_salary = df[['average_montly_hours', 'salary']][(df['salary'] == 'high')]\n",
    "data_hours_low_salary = df[['average_montly_hours', 'salary']][(df['salary'] == 'low')]\n"
   ]
  },
  {
   "cell_type": "code",
   "execution_count": 64,
   "id": "a70ba3c0",
   "metadata": {},
   "outputs": [
    {
     "data": {
      "text/plain": [
       "<AxesSubplot:title={'center':'Распределение среднего количества часов на рабочем месте в месяц сотрудников с высоким окладом'}, ylabel='Frequency'>"
      ]
     },
     "execution_count": 64,
     "metadata": {},
     "output_type": "execute_result"
    },
    {
     "data": {
      "image/png": "[encoded data removed]",
      "text/plain": [
       "<Figure size 936x432 with 1 Axes>"
      ]
     },
     "metadata": {
      "needs_background": "light"
     },
     "output_type": "display_data"
    }
   ],
   "source": [
    "# Проверяем распределение выборок\n",
    "data_hours_high_salary.plot.hist(bins = 30,  edgecolor='#3383FF', color = '#86FF33', title='Распределение среднего количества часов на рабочем месте в месяц сотрудников с высоким окладом')"
   ]
  },
  {
   "cell_type": "code",
   "execution_count": 65,
   "id": "4bd2cd26",
   "metadata": {},
   "outputs": [
    {
     "data": {
      "text/plain": [
       "<AxesSubplot:title={'center':'Распределение среднего количества часов на рабочем месте в месяц сотрудников с низким окладом'}, ylabel='Frequency'>"
      ]
     },
     "execution_count": 65,
     "metadata": {},
     "output_type": "execute_result"
    },
    {
     "data": {
      "image/png": "[encoded data removed]",
      "text/plain": [
       "<Figure size 936x432 with 1 Axes>"
      ]
     },
     "metadata": {
      "needs_background": "light"
     },
     "output_type": "display_data"
    }
   ],
   "source": [
    "data_hours_low_salary.plot.hist(bins = 30,  edgecolor='#3383FF', color='#86FF33', title='Распределение среднего количества часов на рабочем месте в месяц сотрудников с низким окладом')"
   ]
  },
  {
   "cell_type": "code",
   "execution_count": 26,
   "id": "d0ce0a31",
   "metadata": {},
   "outputs": [],
   "source": [
    "# Из визуализации не видно, что выборки имеют нормальное распределение\n",
    "# Проверяем нормальность по критерию Андерсона-Дарлинга\n",
    "# H0 - выборки имеют нормальное распределение"
   ]
  },
  {
   "cell_type": "code",
   "execution_count": 29,
   "id": "a4e17d6b",
   "metadata": {},
   "outputs": [
    {
     "data": {
      "text/plain": [
       "AndersonResult(statistic=10.628515275333484, critical_values=array([0.574, 0.654, 0.784, 0.915, 1.088]), significance_level=array([15. , 10. ,  5. ,  2.5,  1. ]))"
      ]
     },
     "execution_count": 29,
     "metadata": {},
     "output_type": "execute_result"
    }
   ],
   "source": [
    "np.random.seed(41)\n",
    "stats.anderson(data_hours_high_salary['average_montly_hours'])"
   ]
  },
  {
   "cell_type": "code",
   "execution_count": 37,
   "id": "a1640394",
   "metadata": {},
   "outputs": [
    {
     "data": {
      "text/plain": [
       "AndersonResult(statistic=106.07839458442504, critical_values=array([0.576, 0.656, 0.787, 0.917, 1.091]), significance_level=array([15. , 10. ,  5. ,  2.5,  1. ]))"
      ]
     },
     "execution_count": 37,
     "metadata": {},
     "output_type": "execute_result"
    }
   ],
   "source": [
    "np.random.seed(41)\n",
    "stats.anderson(data_hours_low_salary['average_montly_hours'])"
   ]
  },
  {
   "cell_type": "code",
   "execution_count": 38,
   "id": "20d01172",
   "metadata": {},
   "outputs": [],
   "source": [
    "# Полученные рез-ты критериев 10,63 и 106,08 превышают критические показатели для всех уровней значимости.\n",
    "# Гипотеза, что выборки имеют нормальное распределение, отклоняется."
   ]
  },
  {
   "cell_type": "code",
   "execution_count": 39,
   "id": "d4f9fe4d",
   "metadata": {},
   "outputs": [],
   "source": [
    "# Выборки независимые, с количественными данными, не имеют нормального распределения\n",
    "# Применим для сравнения U-тест Манна-Уитни"
   ]
  },
  {
   "cell_type": "code",
   "execution_count": 44,
   "id": "529e268a",
   "metadata": {},
   "outputs": [
    {
     "data": {
      "text/plain": [
       "MannwhitneyuResult(statistic=4507096.5, pvalue=0.4120665360429347)"
      ]
     },
     "execution_count": 44,
     "metadata": {},
     "output_type": "execute_result"
    }
   ],
   "source": [
    "from scipy.stats import mannwhitneyu\n",
    "A = data_hours_high_salary['average_montly_hours']\n",
    "B = data_hours_low_salary['average_montly_hours']\n",
    "stats.mannwhitneyu(A, B)"
   ]
  },
  {
   "cell_type": "code",
   "execution_count": 41,
   "id": "de5c0314",
   "metadata": {},
   "outputs": [],
   "source": [
    "# Вывод:\n",
    "# p-value = 0,41 > уровня значимости = 0,05.\n",
    "# Нулевую гипотезу об отсутствии различий в среднем времени, проведённом на работе работниками с высокой и низкой зарплатой, отклонить не можем."
   ]
  }
 ],
 "metadata": {
  "kernelspec": {
   "display_name": "Python 3",
   "language": "python",
   "name": "python3"
  },
  "language_info": {
   "codemirror_mode": {
    "name": "ipython",
    "version": 3
   },
   "file_extension": ".py",
   "mimetype": "text/x-python",
   "name": "python",
   "nbconvert_exporter": "python",
   "pygments_lexer": "ipython3",
   "version": "3.8.8"
  }
 },
 "nbformat": 4,
 "nbformat_minor": 5
}
