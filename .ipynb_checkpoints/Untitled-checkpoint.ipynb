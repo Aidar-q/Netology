{
 "cells": [
  {
   "cell_type": "code",
   "execution_count": 2,
   "id": "29a99fb6",
   "metadata": {},
   "outputs": [
    {
     "data": {
      "text/plain": [
       "Title                   MovieID\n",
       "American Beauty (1999)  2858       1963\n",
       "Name: MovieID, dtype: int64"
      ]
     },
     "execution_count": 2,
     "metadata": {},
     "output_type": "execute_result"
    }
   ],
   "source": [
    "import pandas as pd\n",
    "# Рейтинги\n",
    "data = pd.read_table ('ratings.dat', sep='\\::', engine='python', names=['UserID','MovieID','Rating','Timestamp'])\n",
    "# Фильмы\n",
    "data0 = pd.read_table ('movies.dat', sep='\\::', engine='python', names=['MovieID','Title','Genres'])\n",
    "#data0.head(5)\n",
    "data_merge = data.merge(data0, on = \"MovieID\")\n",
    "#data_merge.head(5)\n",
    "\n",
    "data_merge[data_merge['Rating']==5.0].groupby(['Title'])['MovieID'].value_counts().sort_values(ascending=False).head(1)"
   ]
  },
  {
   "cell_type": "code",
   "execution_count": 1,
   "id": "fd80932f",
   "metadata": {},
   "outputs": [
    {
     "name": "stdout",
     "output_type": "stream",
     "text": [
      "Суммарное потребление: 165867.0\n"
     ]
    }
   ],
   "source": [
    "import pandas as pd\n",
    "data = pd.read_csv ('power.csv', delimiter=',')\n",
    "pribaltika = data[(data['country']=='Estonia') | (data['country']=='Lithuania') | (data['country']=='Latvia') ]\n",
    "#pribaltika.head(10)\n",
    "result = pribaltika[(pribaltika['category']==4) | (pribaltika['category']==12) | \n",
    "                      (pribaltika['category']==21) & (pribaltika['year'] < 2010) & (pribaltika['year'] > 2005)\n",
    "                   & (pribaltika['quantity'] > 0)]\n",
    "print('Суммарное потребление:', result['quantity'].sum())"
   ]
  },
  {
   "cell_type": "code",
   "execution_count": 15,
   "id": "cdf6d7cd",
   "metadata": {},
   "outputs": [
    {
     "data": {
      "text/html": [
       "<div>\n",
       "<style scoped>\n",
       "    .dataframe tbody tr th:only-of-type {\n",
       "        vertical-align: middle;\n",
       "    }\n",
       "\n",
       "    .dataframe tbody tr th {\n",
       "        vertical-align: top;\n",
       "    }\n",
       "\n",
       "    .dataframe thead th {\n",
       "        text-align: right;\n",
       "    }\n",
       "</style>\n",
       "<table border=\"1\" class=\"dataframe\">\n",
       "  <thead>\n",
       "    <tr style=\"text-align: right;\">\n",
       "      <th></th>\n",
       "      <th>Unnamed: 0</th>\n",
       "      <th>Группа A</th>\n",
       "      <th>И</th>\n",
       "      <th>В</th>\n",
       "      <th>Н</th>\n",
       "      <th>П</th>\n",
       "      <th>З</th>\n",
       "      <th>П.1</th>\n",
       "      <th>+/-</th>\n",
       "      <th>О</th>\n",
       "    </tr>\n",
       "  </thead>\n",
       "  <tbody>\n",
       "    <tr>\n",
       "      <th>0</th>\n",
       "      <td>1</td>\n",
       "      <td>Италия</td>\n",
       "      <td>3</td>\n",
       "      <td>3</td>\n",
       "      <td>0</td>\n",
       "      <td>0</td>\n",
       "      <td>7</td>\n",
       "      <td>0</td>\n",
       "      <td>7</td>\n",
       "      <td>9</td>\n",
       "    </tr>\n",
       "    <tr>\n",
       "      <th>1</th>\n",
       "      <td>2</td>\n",
       "      <td>Уэльс</td>\n",
       "      <td>3</td>\n",
       "      <td>1</td>\n",
       "      <td>1</td>\n",
       "      <td>1</td>\n",
       "      <td>3</td>\n",
       "      <td>2</td>\n",
       "      <td>1</td>\n",
       "      <td>4</td>\n",
       "    </tr>\n",
       "    <tr>\n",
       "      <th>2</th>\n",
       "      <td>3</td>\n",
       "      <td>Швейцария</td>\n",
       "      <td>3</td>\n",
       "      <td>1</td>\n",
       "      <td>1</td>\n",
       "      <td>1</td>\n",
       "      <td>4</td>\n",
       "      <td>5</td>\n",
       "      <td>-1</td>\n",
       "      <td>4</td>\n",
       "    </tr>\n",
       "    <tr>\n",
       "      <th>3</th>\n",
       "      <td>4</td>\n",
       "      <td>Турция</td>\n",
       "      <td>3</td>\n",
       "      <td>0</td>\n",
       "      <td>0</td>\n",
       "      <td>3</td>\n",
       "      <td>1</td>\n",
       "      <td>8</td>\n",
       "      <td>-7</td>\n",
       "      <td>0</td>\n",
       "    </tr>\n",
       "  </tbody>\n",
       "</table>\n",
       "</div>"
      ],
      "text/plain": [
       "   Unnamed: 0   Группа A  И  В  Н  П  З  П.1  +/-  О\n",
       "0           1     Италия  3  3  0  0  7    0    7  9\n",
       "1           2      Уэльс  3  1  1  1  3    2    1  4\n",
       "2           3  Швейцария  3  1  1  1  4    5   -1  4\n",
       "3           4     Турция  3  0  0  3  1    8   -7  0"
      ]
     },
     "execution_count": 15,
     "metadata": {},
     "output_type": "execute_result"
    }
   ],
   "source": [
    "import pandas as pd\n",
    "data = pd.read_html('https://soccer365.ru/competitions/24/', encoding='utf-8')[0]\n",
    "data.head()"
   ]
  }
 ],
 "metadata": {
  "kernelspec": {
   "display_name": "Python 3",
   "language": "python",
   "name": "python3"
  },
  "language_info": {
   "codemirror_mode": {
    "name": "ipython",
    "version": 3
   },
   "file_extension": ".py",
   "mimetype": "text/x-python",
   "name": "python",
   "nbconvert_exporter": "python",
   "pygments_lexer": "ipython3",
   "version": "3.8.8"
  }
 },
 "nbformat": 4,
 "nbformat_minor": 5
}
