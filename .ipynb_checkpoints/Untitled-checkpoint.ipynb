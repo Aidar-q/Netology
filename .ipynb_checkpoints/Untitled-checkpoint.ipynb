{
 "cells": [
  {
   "cell_type": "code",
   "execution_count": null,
   "id": "0aca65a1",
   "metadata": {},
   "outputs": [],
   "source": [
    "import pandas as pd\n",
    "import numpy as np\n",
    "\n",
    "cols = ['surgery','Age','Hospital Number','rectal_temperature','pulse','respiratory_rate','temperature_of_extremities',\n",
    "        'peripheral pulse','mucous membranes','capillary refill time','pain','peristalsis','abdominal distension',\n",
    "        'nasogastric tube','nasogastric reflux','nasogastric reflux PH','rectal examination','abdomen','packed cell volume',\n",
    "        'total protein','abdominocentesis appearance','abdomcentesis total protein','outcome','surgical lesion?',\n",
    "        'type of lesion1','type of lesion2','type of lesion3','cp_data']\n",
    "\n",
    "data = pd.read_csv ('stat/horse_data.csv', na_values='?', sep=',', engine='python', names = cols, usecols = ['surgery', 'Age', 'rectal_temperature', 'pulse', 'respiratory_rate', 'temperature_of_extremities', 'pain', 'outcome'])\n",
    "data0 = data\n",
    "data.info()"
   ]
  },
  {
   "cell_type": "code",
   "execution_count": null,
   "id": "ea07a870",
   "metadata": {},
   "outputs": [],
   "source": [
    "data['surgery'] = data.surgery.astype('Int64')\n",
    "data['pain'] = data.pain.astype('Int64')\n",
    "data['outcome'] = data.outcome.astype('Int64')"
   ]
  },
  {
   "cell_type": "code",
   "execution_count": null,
   "id": "c852cef9",
   "metadata": {},
   "outputs": [],
   "source": [
    "# Cогласно описанию, поле Age должно содержать значения 1 и 2. Видимо, ошибка, \n",
    "# поэтому данное поле содержит значения 1 и 2"
   ]
  },
  {
   "cell_type": "code",
   "execution_count": null,
   "id": "b2aa7796",
   "metadata": {},
   "outputs": [],
   "source": [
    "data['Age'].value_counts()\n"
   ]
  },
  {
   "cell_type": "code",
   "execution_count": null,
   "id": "0ecafdae",
   "metadata": {},
   "outputs": [],
   "source": [
    "# Заменим 9 на 2\n",
    "data['Age'] = data.Age.apply(lambda x: 2 if x == 9 else x)\n",
    "data"
   ]
  },
  {
   "cell_type": "code",
   "execution_count": null,
   "id": "80be8113",
   "metadata": {},
   "outputs": [],
   "source": [
    "##Базовые статистики\n",
    "\n",
    "data.describe()\n"
   ]
  },
  {
   "cell_type": "code",
   "execution_count": null,
   "id": "564e4ebc",
   "metadata": {},
   "outputs": [],
   "source": [
    "# Моды, дисперсия и межкваритльный размах\n",
    "row_mode = {'type': 'mode',\n",
    "            'surgery': data['surgery'].mode()[0], \n",
    "            'Age': data['Age'].mode()[0], \n",
    "            'rectal_temperature': data['rectal_temperature'].mode()[0], \n",
    "            'pulse': data['pulse'].mode()[0],\n",
    "            'respiratory_rate': data['respiratory_rate'].mode()[0], \n",
    "            'temperature_of_extremities': data['temperature_of_extremities'].mode()[0],\n",
    "            'pain': data['pain'].mode()[0], \n",
    "            'outcome': data['outcome'].mode()[0]\n",
    "      }\n",
    "\n",
    "row_var = {'type': 'var',\n",
    "           'surgery': data['surgery'].var(), \n",
    "           'Age': data['Age'].var(), \n",
    "           'rectal_temperature': data['rectal_temperature'].var(), \n",
    "           'pulse': data['pulse'].var(),\n",
    "           'respiratory_rate': data['respiratory_rate'].var(), \n",
    "           'temperature_of_extremities': data['temperature_of_extremities'].var(),\n",
    "           'pain': data['pain'].var(), \n",
    "           'outcome': data['outcome'].var()\n",
    "      }\n",
    "Q1_surgery = data['surgery'].quantile(0.25)\n",
    "Q3_surgery = data['surgery'].quantile(0.75)\n",
    "IQR_surgery = Q3_surgery - Q1_surgery\n",
    "\n",
    "Q1_Age = data['Age'].quantile(0.25)\n",
    "Q3_Age = data['Age'].quantile(0.75)\n",
    "IQR_Age = Q3_Age - Q1_Age\n",
    "\n",
    "Q1_rectal_temperature = data['rectal_temperature'].quantile(0.25)\n",
    "Q3_rectal_temperature = data['rectal_temperature'].quantile(0.75)\n",
    "IQR_rectal_temperature = Q3_rectal_temperature - Q1_rectal_temperature\n",
    "\n",
    "Q1_pulse = data['pulse'].quantile(0.25)\n",
    "Q3_pulse = data['pulse'].quantile(0.75)\n",
    "IQR_pulse = Q3_pulse - Q1_pulse\n",
    "\n",
    "Q1_respiratory_rate = data['respiratory_rate'].quantile(0.25)\n",
    "Q3_respiratory_rate = data['respiratory_rate'].quantile(0.75)\n",
    "IQR_respiratory_rate = Q3_respiratory_rate - Q1_respiratory_rate\n",
    "\n",
    "Q1_temperature_of_extremities = data['temperature_of_extremities'].quantile(0.25)\n",
    "Q3_temperature_of_extremities = data['temperature_of_extremities'].quantile(0.75)\n",
    "IQR_temperature_of_extremities = Q3_temperature_of_extremities - Q1_temperature_of_extremities\n",
    "\n",
    "Q1_pain = data['pain'].quantile(0.25)\n",
    "Q3_pain = data['pain'].quantile(0.75)\n",
    "IQR_pain = Q3_pain - Q1_pain\n",
    "\n",
    "Q1_outcome = data['outcome'].quantile(0.25)\n",
    "Q3_outcome = data['outcome'].quantile(0.75)\n",
    "IQR_outcome = Q3_outcome - Q1_outcome\n",
    "\n",
    "row_iqr = {'type': 'iqr',\n",
    "           'surgery': IQR_surgery, \n",
    "           'Age': IQR_Age, \n",
    "           'rectal_temperature': IQR_rectal_temperature, \n",
    "           'pulse': IQR_pulse,\n",
    "           'respiratory_rate': IQR_respiratory_rate, \n",
    "           'temperature_of_extremities': IQR_temperature_of_extremities,\n",
    "           'pain': IQR_pain, \n",
    "           'outcome': IQR_outcome\n",
    "      }\n",
    "dd = pd.DataFrame()\n",
    "dd = pd.concat([pd.DataFrame([row_mode]), pd.DataFrame([row_var]), pd.DataFrame([row_iqr])]).round(4)\n",
    "dd\n",
    "\n"
   ]
  },
  {
   "cell_type": "markdown",
   "id": "d1f58fbf",
   "metadata": {},
   "source": [
    "## Выбросы"
   ]
  },
  {
   "cell_type": "code",
   "execution_count": null,
   "id": "76e1a013",
   "metadata": {},
   "outputs": [],
   "source": [
    "lower_bound_surgery = Q1_surgery - (1.5 * IQR_surgery) \n",
    "upper_bound_surgery = Q3_surgery + (1.5 * IQR_surgery)\n",
    "remove_outliers_surgery = data[data['surgery']\\\n",
    "                        .between(lower_bound_surgery, upper_bound_surgery, inclusive=True)].sort_values('outcome')\n",
    "outliers_surgery = pd.concat([data, remove_outliers_surgery]).drop_duplicates(keep=False)\n",
    "outliers_surgery.head()"
   ]
  },
  {
   "cell_type": "code",
   "execution_count": null,
   "id": "582ee27d",
   "metadata": {},
   "outputs": [],
   "source": [
    "lower_bound_Age = Q1_Age - (1.5 * IQR_Age) \n",
    "upper_bound_Age = Q3_Age + (1.5 * IQR_Age)\n",
    "remove_outliers_Age = data[data['Age']\\\n",
    "                        .between(lower_bound_Age, upper_bound_Age, inclusive=True)].sort_values('outcome')\n",
    "outliers_Age = pd.concat([data, remove_outliers_Age]).drop_duplicates(keep=False)\n",
    "outliers_Age.head()\n"
   ]
  },
  {
   "cell_type": "code",
   "execution_count": null,
   "id": "cbff656c",
   "metadata": {},
   "outputs": [],
   "source": [
    "lower_bound_rectal_temperature = Q1_rectal_temperature - (1.5 * IQR_rectal_temperature) \n",
    "upper_bound_rectal_temperature = Q3_rectal_temperature + (1.5 * IQR_rectal_temperature)\n",
    "remove_outliers_rectal_temperature = data[data['rectal_temperature']\\\n",
    "                                     .between(lower_bound_rectal_temperature, upper_bound_rectal_temperature, inclusive=True)]\\\n",
    "                                     .sort_values('outcome')\n",
    "outliers_rectal_temperature = pd.concat([data, remove_outliers_rectal_temperature]).drop_duplicates(keep=False)\n",
    "outliers_rectal_temperature.head()"
   ]
  },
  {
   "cell_type": "code",
   "execution_count": null,
   "id": "b8a3a043",
   "metadata": {},
   "outputs": [],
   "source": [
    "outliers_rectal_temperature['rectal_temperature'].value_counts()\n"
   ]
  },
  {
   "cell_type": "code",
   "execution_count": null,
   "id": "c9c684e3",
   "metadata": {},
   "outputs": [],
   "source": [
    "lower_bound_pulse = Q1_pulse - (1.5 * IQR_pulse) \n",
    "upper_bound_pulse = Q3_pulse + (1.5 * IQR_pulse)\n",
    "remove_outliers_pulse = data[data['pulse']\\\n",
    "                        .between(lower_bound_pulse, upper_bound_pulse, inclusive=True)].sort_values('outcome')\n",
    "outliers_pulse = pd.concat([data, remove_outliers_pulse]).drop_duplicates(keep=False)\n",
    "outliers_pulse.head()"
   ]
  },
  {
   "cell_type": "code",
   "execution_count": null,
   "id": "3655fa11",
   "metadata": {},
   "outputs": [],
   "source": [
    "outliers_pulse['pulse'].value_counts()\n"
   ]
  },
  {
   "cell_type": "code",
   "execution_count": null,
   "id": "336edecd",
   "metadata": {},
   "outputs": [],
   "source": [
    "lower_bound_respiratory_rate = Q1_respiratory_rate - (1.5 * IQR_respiratory_rate) \n",
    "upper_bound_respiratory_rate = Q3_respiratory_rate + (1.5 * IQR_respiratory_rate)\n",
    "remove_outliers_respiratory_rate = data[data['respiratory_rate']\\\n",
    "                                   .between(lower_bound_respiratory_rate, upper_bound_respiratory_rate, inclusive=True)]\\\n",
    "                                   .sort_values('outcome')\n",
    "outliers_respiratory_rate = pd.concat([data, remove_outliers_respiratory_rate]).drop_duplicates(keep=False)\n",
    "outliers_respiratory_rate.head()\n",
    "outliers_respiratory_rate['respiratory_rate'].value_counts()\n",
    "#pd.concat([data, outliers_respiratory_rate]).drop_duplicates(keep=False)"
   ]
  },
  {
   "cell_type": "code",
   "execution_count": null,
   "id": "86ae8fe2",
   "metadata": {},
   "outputs": [],
   "source": [
    "lower_bound_temperature_of_extremities = Q1_temperature_of_extremities - (1.5 * IQR_temperature_of_extremities) \n",
    "upper_bound_temperature_of_extremities = Q3_temperature_of_extremities + (1.5 * IQR_temperature_of_extremities)\n",
    "remove_outliers_temperature_of_extremities = data[data['temperature_of_extremities']\\\n",
    "                                             .between(lower_bound_temperature_of_extremities,\\\n",
    "                                             upper_bound_temperature_of_extremities, inclusive=True)]\\\n",
    "                                             .sort_values('outcome')\n",
    "outliers_temperature_of_extremities = pd.concat([data, remove_outliers_temperature_of_extremities]).drop_duplicates(keep=False)\n",
    "outliers_temperature_of_extremities.head()\n",
    "#outliers_temperature_of_extremities['temperature_of_extremities'].value_counts()\n"
   ]
  },
  {
   "cell_type": "code",
   "execution_count": null,
   "id": "5f31c1f5",
   "metadata": {},
   "outputs": [],
   "source": [
    "lower_bound_pain = Q1_pain - (1.5 * IQR_pain) \n",
    "upper_bound_pain = Q3_pain + (1.5 * IQR_pain)\n",
    "remove_outliers_pain = data[data['pain']\\\n",
    "                       .between(lower_bound_pain, upper_bound_pain, inclusive=True)].sort_values('outcome')\n",
    "outliers_pain = pd.concat([data, remove_outliers_pain]).drop_duplicates(keep=False)\n",
    "outliers_pain.head()"
   ]
  },
  {
   "cell_type": "code",
   "execution_count": null,
   "id": "c35d48bf",
   "metadata": {},
   "outputs": [],
   "source": [
    "low_outcome = Q1_outcome - (1.5 * IQR_outcome) \n",
    "upper_outcome = Q3_outcome + (1.5 * IQR_outcome)\n",
    "remove_outliers_outcome = data[data['outcome']\\\n",
    "                       .between(low_outcome, upper_outcome, inclusive=True)].sort_values('outcome')\n",
    "outliers_outcome = pd.concat([data, remove_outliers_outcome]).drop_duplicates(keep=False)\n",
    "outliers_outcome.head()"
   ]
  },
  {
   "cell_type": "code",
   "execution_count": null,
   "id": "eb6c824a",
   "metadata": {},
   "outputs": [],
   "source": [
    "pd.concat([data, remove_outliers_outcome]).drop_duplicates(keep=False)"
   ]
  },
  {
   "cell_type": "markdown",
   "id": "fdb92812",
   "metadata": {},
   "source": [
    "## Пропуски"
   ]
  },
  {
   "cell_type": "code",
   "execution_count": null,
   "id": "0ce3e156",
   "metadata": {},
   "outputs": [],
   "source": [
    "fill_data = data\n",
    "fill_data"
   ]
  },
  {
   "cell_type": "code",
   "execution_count": null,
   "id": "9086c87a",
   "metadata": {},
   "outputs": [],
   "source": [
    "# Пропуски в %\n",
    "(fill_data.isna().mean() * 100).round(2)"
   ]
  },
  {
   "cell_type": "code",
   "execution_count": null,
   "id": "fa35e719",
   "metadata": {},
   "outputs": [],
   "source": [
    "# В столбцах surgery? и outcome есть по одному пропуску. Заполянем их модой\n",
    "\n",
    "fill_data['surgery'].fillna(fill_data['surgery'].mode()[0], inplace=True)\n",
    "print(fill_data['surgery'].isna().sum())\n",
    "print(fill_data['surgery'].unique())\n"
   ]
  },
  {
   "cell_type": "code",
   "execution_count": null,
   "id": "1e52ad19",
   "metadata": {},
   "outputs": [],
   "source": [
    "fill_data['outcome'].fillna(fill_data['outcome'].mode()[0], inplace=True)\n",
    "print(fill_data['outcome'].isna().sum())\n",
    "print(fill_data['outcome'].unique())"
   ]
  },
  {
   "cell_type": "code",
   "execution_count": null,
   "id": "15fbf83a",
   "metadata": {},
   "outputs": [],
   "source": [
    "fill_data.loc[132]\n",
    "fill_data.info()\n"
   ]
  },
  {
   "cell_type": "code",
   "execution_count": null,
   "id": "ae40ed55",
   "metadata": {},
   "outputs": [],
   "source": [
    "# Пропуски в pain\n",
    "\n",
    "fill_median = fill_data\n",
    "\n",
    "fill_median['pain'].fillna(fill_data['pain'].median(), inplace=True)\n",
    "print(fill_median['pain'].fillna(fill_data['pain'].median()).isna().sum())\n",
    "print(fill_median['pain'].unique())"
   ]
  },
  {
   "cell_type": "code",
   "execution_count": null,
   "id": "79fee6ac",
   "metadata": {},
   "outputs": [],
   "source": [
    "fill_median['pain'].describe()"
   ]
  },
  {
   "cell_type": "code",
   "execution_count": null,
   "id": "b4c163fc",
   "metadata": {},
   "outputs": [],
   "source": [
    "fill_moda = fill_data\n",
    "\n",
    "fill_moda['pain'].fillna(fill_data['pain'].mode()[0], inplace=True)\n",
    "print(fill_moda['pain'].isna().sum())\n",
    "print(fill_moda['pain'].unique())"
   ]
  },
  {
   "cell_type": "code",
   "execution_count": null,
   "id": "30d952bb",
   "metadata": {},
   "outputs": [],
   "source": [
    "fill_moda['pain'].describe() #['mean']"
   ]
  },
  {
   "cell_type": "code",
   "execution_count": null,
   "id": "0877296f",
   "metadata": {},
   "outputs": [],
   "source": [
    "fill_moda['pain'].describe()['mean'] == fill_data['pain'].describe()['mean']"
   ]
  },
  {
   "cell_type": "code",
   "execution_count": null,
   "id": "3dafdf52",
   "metadata": {},
   "outputs": [],
   "source": [
    "# Поскольку вышестоящее условие истинно, можем заполнить pain медианой\n",
    "fill_data['pain'].fillna(fill_data['pain'].mode()[0], inplace=True)\n",
    "print(fill_data['pain'].isna().sum())\n",
    "print(fill_data['pain'].unique())"
   ]
  },
  {
   "cell_type": "code",
   "execution_count": null,
   "id": "caafc662",
   "metadata": {},
   "outputs": [],
   "source": [
    "# Пропуски в полях 'rectal_temperature', 'pulse', 'respiratory_rate', 'temperature_of_extremities'"
   ]
  },
  {
   "cell_type": "code",
   "execution_count": null,
   "id": "b04696ae",
   "metadata": {},
   "outputs": [],
   "source": [
    "fill_data['rectal_temperature'].fillna(fill_data.groupby(['surgery', 'Age'])['rectal_temperature'].transform('median'), inplace=True)\n",
    "fill_data['pulse'].fillna(fill_data.groupby(['pain', 'Age'])['pulse'].transform('median'), inplace=True)\n",
    "fill_data['temperature_of_extremities'].fillna(fill_data.groupby(['Age', 'outcome'])['temperature_of_extremities'].transform('median'), inplace=True)\n",
    "fill_data['respiratory_rate'].fillna(fill_data.groupby(['outcome', 'Age'])['respiratory_rate'].transform('median'), inplace=True)\n",
    "\n",
    "fill_data['respiratory_rate'].fillna(fill_data['respiratory_rate'].median(), inplace=True)\n",
    "\n",
    "fill_data.info()\n"
   ]
  },
  {
   "cell_type": "code",
   "execution_count": null,
   "id": "452e2511",
   "metadata": {},
   "outputs": [],
   "source": [
    "# При заполнении пропусков данные будут группироваться по двум некоторым признакам."
   ]
  },
  {
   "cell_type": "code",
   "execution_count": null,
   "id": "994f4620",
   "metadata": {},
   "outputs": [],
   "source": [
    "print(fill_data.groupby(['surgery', 'Age'])['respiratory_rate'].median())\n",
    "fill_median_by_groups = fill_data\n",
    "fill_median_by_groups['respiratory_rate'].fillna(fill_data.groupby(['surgery', 'Age'])['respiratory_rate'].transform('median'), inplace=True)\n"
   ]
  },
  {
   "cell_type": "code",
   "execution_count": null,
   "id": "6c603e08",
   "metadata": {},
   "outputs": [],
   "source": [
    "print(fill_data.groupby(['surgery', 'pain'])['respiratory_rate'].median())\n",
    "fill_median_by_groups = fill_data\n",
    "fill_median_by_groups['respiratory_rate'].fillna(fill_data.groupby(['surgery', 'pain'])['respiratory_rate'].transform('median'), inplace=True)"
   ]
  },
  {
   "cell_type": "code",
   "execution_count": null,
   "id": "d2e0c599",
   "metadata": {},
   "outputs": [],
   "source": [
    "print(fill_data.groupby(['surgery', 'outcome'])['respiratory_rate'].median())\n",
    "fill_median_by_groups = fill_data\n",
    "fill_median_by_groups['respiratory_rate'].fillna(fill_data.groupby(['surgery', 'outcome'])['respiratory_rate'].transform('median'), inplace=True)"
   ]
  },
  {
   "cell_type": "code",
   "execution_count": null,
   "id": "ba85b230",
   "metadata": {},
   "outputs": [],
   "source": [
    "print(fill_data.groupby(['Age', 'surgery'])['respiratory_rate'].median())\n",
    "fill_median_by_groups = fill_data\n",
    "fill_median_by_groups['respiratory_rate'].fillna(fill_data.groupby(['Age', 'surgery'])['respiratory_rate'].transform('median'), inplace=True)"
   ]
  },
  {
   "cell_type": "code",
   "execution_count": null,
   "id": "922e7b11",
   "metadata": {},
   "outputs": [],
   "source": [
    "print(fill_data.groupby(['Age', 'pain'])['respiratory_rate'].median())\n",
    "fill_median_by_groups = fill_data\n",
    "fill_median_by_groups['respiratory_rate'].fillna(fill_data.groupby(['Age', 'pain'])['respiratory_rate'].transform('median'), inplace=True)"
   ]
  },
  {
   "cell_type": "code",
   "execution_count": null,
   "id": "b278f320",
   "metadata": {},
   "outputs": [],
   "source": [
    "print(fill_data.groupby(['Age', 'outcome'])['respiratory_rate'].median())\n",
    "fill_median_by_groups = fill_data\n",
    "fill_median_by_groups['respiratory_rate'].fillna(fill_data.groupby(['Age', 'outcome'])['respiratory_rate'].transform('median'), inplace=True)"
   ]
  },
  {
   "cell_type": "code",
   "execution_count": null,
   "id": "e28c6c2e",
   "metadata": {},
   "outputs": [],
   "source": [
    "print(fill_data.groupby(['pain', 'surgery'])['respiratory_rate'].median())\n",
    "fill_median_by_groups = fill_data\n",
    "fill_median_by_groups['respiratory_rate'].fillna(fill_data.groupby(['pain', 'surgery'])['respiratory_rate'].transform('median'), inplace=True)"
   ]
  },
  {
   "cell_type": "code",
   "execution_count": null,
   "id": "bdd1d87b",
   "metadata": {},
   "outputs": [],
   "source": [
    "print(fill_data.groupby(['pain', 'Age'])['respiratory_rate'].median())\n",
    "fill_median_by_groups = fill_data\n",
    "fill_median_by_groups['respiratory_rate'].fillna(fill_data.groupby(['pain', 'Age'])['respiratory_rate'].transform('median'), inplace=True)"
   ]
  },
  {
   "cell_type": "code",
   "execution_count": null,
   "id": "bba014dd",
   "metadata": {},
   "outputs": [],
   "source": [
    "print(fill_data.groupby(['pain', 'outcome'])['respiratory_rate'].median())\n",
    "fill_median_by_groups = fill_data\n",
    "fill_median_by_groups['respiratory_rate'].fillna(fill_data.groupby(['pain', 'outcome'])['respiratory_rate'].transform('median'), inplace=True)"
   ]
  },
  {
   "cell_type": "code",
   "execution_count": null,
   "id": "0273d4d9",
   "metadata": {},
   "outputs": [],
   "source": [
    "print(fill_data.groupby(['outcome', 'surgery'])['respiratory_rate'].median())\n",
    "fill_median_by_groups = fill_data\n",
    "fill_median_by_groups['respiratory_rate'].fillna(fill_data.groupby(['outcome', 'surgery'])['respiratory_rate'].transform('median'), inplace=True)"
   ]
  },
  {
   "cell_type": "code",
   "execution_count": null,
   "id": "19050f2c",
   "metadata": {},
   "outputs": [],
   "source": [
    "print(fill_data.groupby(['outcome', 'Age'])['respiratory_rate'].median())\n",
    "fill_median_by_groups = fill_data\n",
    "fill_median_by_groups['respiratory_rate'].fillna(fill_data.groupby(['outcome', 'Age'])['respiratory_rate'].transform('median'), inplace=True)"
   ]
  },
  {
   "cell_type": "code",
   "execution_count": null,
   "id": "3627013c",
   "metadata": {},
   "outputs": [],
   "source": [
    "print(fill_data.groupby(['outcome', 'pain'])['temperature_of_extremities'].median())\n",
    "fill_median_by_groups = fill_data\n",
    "fill_median_by_groups['respiratory_rate'].fillna(fill_data.groupby(['outcome', 'pain'])['respiratory_rate'].transform('median'), inplace=True)"
   ]
  },
  {
   "cell_type": "code",
   "execution_count": null,
   "id": "7934d127",
   "metadata": {
    "scrolled": true
   },
   "outputs": [],
   "source": [
    "data0.describe()\n"
   ]
  },
  {
   "cell_type": "code",
   "execution_count": null,
   "id": "990afbb3",
   "metadata": {},
   "outputs": [],
   "source": [
    "fill_data.describe()\n"
   ]
  },
  {
   "cell_type": "code",
   "execution_count": null,
   "id": "ccff9335",
   "metadata": {},
   "outputs": [],
   "source": []
  }
 ],
 "metadata": {
  "kernelspec": {
   "display_name": "Python 3",
   "language": "python",
   "name": "python3"
  },
  "language_info": {
   "codemirror_mode": {
    "name": "ipython",
    "version": 3
   },
   "file_extension": ".py",
   "mimetype": "text/x-python",
   "name": "python",
   "nbconvert_exporter": "python",
   "pygments_lexer": "ipython3",
   "version": "3.8.8"
  }
 },
 "nbformat": 4,
 "nbformat_minor": 5
}
