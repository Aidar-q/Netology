{
 "cells": [
  {
   "cell_type": "code",
   "execution_count": null,
   "id": "401ccc12",
   "metadata": {},
   "outputs": [],
   "source": [
    "x=5\n",
    "while x != 0:\n",
    "    x -= 2\n",
    "    print(x)"
   ]
  },
  {
   "cell_type": "code",
   "execution_count": null,
   "id": "20377772",
   "metadata": {},
   "outputs": [],
   "source": []
  },
  {
   "cell_type": "code",
   "execution_count": null,
   "id": "e0f78f59",
   "metadata": {},
   "outputs": [],
   "source": []
  }
 ],
 "metadata": {
  "kernelspec": {
   "display_name": "Python 3",
   "language": "python",
   "name": "python3"
  }
 },
 "nbformat": 4,
 "nbformat_minor": 5
}
