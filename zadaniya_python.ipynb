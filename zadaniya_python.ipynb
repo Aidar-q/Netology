{
 "cells": [
  {
   "cell_type": "markdown",
   "id": "5eb3d4cd",
   "metadata": {},
   "source": [
    "## Задание 1"
   ]
  },
  {
   "cell_type": "code",
   "execution_count": 1,
   "id": "b792540f",
   "metadata": {},
   "outputs": [
    {
     "name": "stdout",
     "output_type": "stream",
     "text": [
      "Фраза 1 длинее фразы 2\n"
     ]
    }
   ],
   "source": [
    "phrase_1 = 'Насколько проще было бы писать программы, если бы не заказчики'\n",
    "phrase_2 = '640Кб должно хватить для любых задач. Билл Гейтс (по легенде)'\n",
    "if len(phrase_1)>len(phrase_2): print('Фраза 1 длинее фразы 2')\n",
    "else:print('Фраза 2 длинее фразы 1')"
   ]
  },
  {
   "cell_type": "code",
   "execution_count": 2,
   "id": "ae12802a",
   "metadata": {},
   "outputs": [
    {
     "name": "stdout",
     "output_type": "stream",
     "text": [
      "Фраза 2 длинее фразы 1\n"
     ]
    }
   ],
   "source": [
    "phrase_1 = '640Кб должно хватить для любых задач. Билл Гейтс (по легенде)'\n",
    "phrase_2 = 'Насколько проще было бы писать программы, если бы не заказчики'\n",
    "if len(phrase_1)<len(phrase_2): print('Фраза 2 длинее фразы 1')\n",
    "else:print('Фраза 1 длинее фразы 2')"
   ]
  },
  {
   "cell_type": "code",
   "execution_count": 7,
   "id": "0ec72c97",
   "metadata": {},
   "outputs": [
    {
     "name": "stdout",
     "output_type": "stream",
     "text": [
      "Фразы равной длины\n"
     ]
    }
   ],
   "source": [
    "phrase_1 = 'Насколько проще было бы писать программы, если бы не заказчики'\n",
    "phrase_2 = 'Насколько проще было бы писать программы, если бы не заказчики'\n",
    "if not len(phrase_1)==len(phrase_2): print('Фразы неравной длины')\n",
    "else: print('Фразы равной длины')"
   ]
  },
  {
   "cell_type": "markdown",
   "id": "9450a174",
   "metadata": {},
   "source": [
    "## Задание 2"
   ]
  },
  {
   "cell_type": "code",
   "execution_count": 16,
   "id": "2f304eaa",
   "metadata": {},
   "outputs": [
    {
     "name": "stdout",
     "output_type": "stream",
     "text": [
      "2020\n",
      "Високосный год\n"
     ]
    }
   ],
   "source": [
    "year = int(input())\n",
    "if year % 4 != 0:\n",
    "    print('Обычный год')\n",
    "elif year % 100 != 0:\n",
    "    print('Високосный год')\n",
    "elif year % 400 != 0:\n",
    "    print('Обычный год')\n",
    "else:\n",
    "    print('Високосный год') \n"
   ]
  },
  {
   "cell_type": "code",
   "execution_count": 22,
   "id": "505754ab",
   "metadata": {},
   "outputs": [
    {
     "name": "stdout",
     "output_type": "stream",
     "text": [
      "День: 29\n",
      "Месяц: 06\n",
      "Знак зодиака: Рак\n"
     ]
    }
   ],
   "source": [
    "day = int(input(\"День: \"))\n",
    "month = int(input(\"Месяц: \"))\n",
    "if (day>=21 and day<=31 and month==3) or( month==4 and day>=1 and day<=19):\n",
    "   print(\"Знак зодиака: Овен\")\n",
    "elif (day>=20 and day<=30 and month==4) or( month==5 and day>=1 and day<=20):\n",
    "   print(\"Знак зодиака: Телец\")\n",
    "elif (day>=21 and day<=31 and month==5) or( month==6 and day>=1 and day<=21):\n",
    "   print(\"Знак зодиака: Близнецы\")\n",
    "elif (day>=22 and day<=30 and month==6) or( month==7 and day>=1 and day<=22):\n",
    "   print(\"Знак зодиака: Рак\")\n",
    "elif (day>=23 and day<=31 and month==7) or( month==8 and day>=1 and day<=22):\n",
    "   print(\"Знак зодиака: Лев\")\n",
    "elif (day>=23 and day<=31 and month==8) or( month==9 and day>=1 and day<=22):\n",
    "   print(\"Знак зодиака: Дева\")\n",
    "elif (day>=23 and day<=30 and month==9) or( month==10 and day>=1 and day<=23):\n",
    "   print(\"Знак зодиака: Весы\")\n",
    "elif (day>=24 and day<=31 and month==10) or( month==11 and day>=1 and day<=22):\n",
    "   print(\"Знак зодиака: Скорпион\")\n",
    "elif (day>=23 and day<=30 and month==11) or( month==12 and day>=1 and day<=21):\n",
    "   print(\"Знак зодиака: Стрелец\")\n",
    "elif (day>=22 and day<=31 and month==12) or( month==1 and day>=1 and day<=20):\n",
    "   print(\"Знак зодиака: Козерог\")\n",
    "elif (day>=21 and day<=31 and month==1) or( month==2 and day>=1 and day<=18):\n",
    "   print(\"Знак зодиака: Водолей\")\n",
    "elif (day>=19 and day<=29 and month==2) or( month==3 and day>=1 and day<=20):\n",
    "   print(\"Знак зодиака: Рыбы\")"
   ]
  }
 ],
 "metadata": {
  "kernelspec": {
   "display_name": "Python 3",
   "language": "python",
   "name": "python3"
  },
  "language_info": {
   "codemirror_mode": {
    "name": "ipython",
    "version": 3
   },
   "file_extension": ".py",
   "mimetype": "text/x-python",
   "name": "python",
   "nbconvert_exporter": "python",
   "pygments_lexer": "ipython3",
   "version": "3.8.8"
  }
 },
 "nbformat": 4,
 "nbformat_minor": 5
}
