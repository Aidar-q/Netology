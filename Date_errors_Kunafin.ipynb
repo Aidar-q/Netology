{
 "cells": [
  {
   "cell_type": "code",
   "execution_count": 66,
   "id": "e73af40b",
   "metadata": {},
   "outputs": [
    {
     "name": "stdout",
     "output_type": "stream",
     "text": [
      "The Moscow Times - Wednesday, October 2, 2002\n",
      "The Guardian - Friday, 11.10.13\n",
      "The Guardian - Thursday, 18 August 1977\n"
     ]
    }
   ],
   "source": [
    "from datetime import datetime\n",
    "msk = datetime(2002, 10, 2)\n",
    "grd = datetime(2013,10,11)\n",
    "dn = datetime(1977,8,18)\n",
    "print('The Moscow Times -', msk.strftime('%A, %B %#d, %Y'))\n",
    "print('The Guardian -', grd.strftime('%A, %d.%m.%y'))\n",
    "print('The Guardian -', dn.strftime('%A, %d %B %Y'))"
   ]
  },
  {
   "cell_type": "code",
   "execution_count": 65,
   "id": "f9b7b7e0",
   "metadata": {},
   "outputs": [
    {
     "name": "stdout",
     "output_type": "stream",
     "text": [
      "дата \"2018-04-02\" корректна: True\n",
      "дата \"2018-02-29\" корректна: False\n",
      "дата \"2018-19-02\" корректна: False\n"
     ]
    }
   ],
   "source": [
    "from datetime import datetime\n",
    "stream = ['2018-04-02', '2018-02-29', '2018-19-02']\n",
    "def chk_date(num):\n",
    "    try:\n",
    "        datetime.strptime(num, '%Y-%m-%d')\n",
    "        print('дата \"{}\" корректна: {}'.format(num, True))\n",
    "    except:\n",
    "        print('дата \"{}\" корректна: {}'.format(num, False))\n",
    "for dt in stream:\n",
    "    chk_date(dt)"
   ]
  },
  {
   "cell_type": "code",
   "execution_count": 64,
   "id": "4955910e",
   "metadata": {},
   "outputs": [
    {
     "data": {
      "text/plain": [
       "['2018-01-01',\n",
       " '2018-01-02',\n",
       " '2018-01-03',\n",
       " '2018-01-04',\n",
       " '2018-01-05',\n",
       " '2018-01-06',\n",
       " '2018-01-07',\n",
       " '2018-01-08',\n",
       " '2018-01-09',\n",
       " '2018-01-10',\n",
       " '2018-01-11',\n",
       " '2018-01-12',\n",
       " '2018-01-13',\n",
       " '2018-01-14',\n",
       " '2018-01-15']"
      ]
     },
     "execution_count": 64,
     "metadata": {},
     "output_type": "execute_result"
    }
   ],
   "source": [
    "from datetime import datetime, timedelta\n",
    "start_date = '2018-01-01'\n",
    "end_date = '2018-01-15'\n",
    "def date_1_2():\n",
    "    s_d = datetime.strptime(start_date,'%Y-%m-%d')\n",
    "    e_d = datetime.strptime(end_date,'%Y-%m-%d')\n",
    "    days_between = []\n",
    "    while s_d <= e_d:\n",
    "        p_datetime = datetime.strftime(s_d,'%Y-%m-%d')\n",
    "        days_between.append(p_datetime)\n",
    "        s_d += timedelta(days=1)\n",
    "    return days_between\n",
    "date_1_2()"
   ]
  }
 ],
 "metadata": {
  "kernelspec": {
   "display_name": "Python 3",
   "language": "python",
   "name": "python3"
  },
  "language_info": {
   "codemirror_mode": {
    "name": "ipython",
    "version": 3
   },
   "file_extension": ".py",
   "mimetype": "text/x-python",
   "name": "python",
   "nbconvert_exporter": "python",
   "pygments_lexer": "ipython3",
   "version": "3.8.8"
  }
 },
 "nbformat": 4,
 "nbformat_minor": 5
}
